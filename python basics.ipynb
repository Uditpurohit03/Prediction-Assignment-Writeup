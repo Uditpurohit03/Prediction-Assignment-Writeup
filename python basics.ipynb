{
 "cells": [
  {
   "cell_type": "code",
   "execution_count": 5,
   "id": "93a2d64b",
   "metadata": {},
   "outputs": [
    {
     "name": "stdout",
     "output_type": "stream",
     "text": [
      "The Zen of Python, by Tim Peters\n",
      "\n",
      "Beautiful is better than ugly.\n",
      "Explicit is better than implicit.\n",
      "Simple is better than complex.\n",
      "Complex is better than complicated.\n",
      "Flat is better than nested.\n",
      "Sparse is better than dense.\n",
      "Readability counts.\n",
      "Special cases aren't special enough to break the rules.\n",
      "Although practicality beats purity.\n",
      "Errors should never pass silently.\n",
      "Unless explicitly silenced.\n",
      "In the face of ambiguity, refuse the temptation to guess.\n",
      "There should be one-- and preferably only one --obvious way to do it.\n",
      "Although that way may not be obvious at first unless you're Dutch.\n",
      "Now is better than never.\n",
      "Although never is often better than *right* now.\n",
      "If the implementation is hard to explain, it's a bad idea.\n",
      "If the implementation is easy to explain, it may be a good idea.\n",
      "Namespaces are one honking great idea -- let's do more of those!\n"
     ]
    }
   ],
   "source": [
    "import this"
   ]
  },
  {
   "cell_type": "code",
   "execution_count": 7,
   "id": "77e59c4c",
   "metadata": {},
   "outputs": [
    {
     "data": {
      "text/plain": [
       "'adkljasdkf'"
      ]
     },
     "execution_count": 7,
     "metadata": {},
     "output_type": "execute_result"
    }
   ],
   "source": [
    "s = \"adkljasdkf\";\n",
    "s"
   ]
  },
  {
   "cell_type": "code",
   "execution_count": 10,
   "id": "c443560c",
   "metadata": {},
   "outputs": [
    {
     "name": "stdout",
     "output_type": "stream",
     "text": [
      "<class 'bool'>\n"
     ]
    }
   ],
   "source": [
    "e = True;\n",
    "print(type(e));"
   ]
  },
  {
   "cell_type": "code",
   "execution_count": 11,
   "id": "c70911dc",
   "metadata": {},
   "outputs": [],
   "source": [
    "a,b,c,d = 23,\"Udit\",\"kpg\",232.454;"
   ]
  },
  {
   "cell_type": "code",
   "execution_count": 12,
   "id": "66e3c009",
   "metadata": {},
   "outputs": [
    {
     "data": {
      "text/plain": [
       "23"
      ]
     },
     "execution_count": 12,
     "metadata": {},
     "output_type": "execute_result"
    }
   ],
   "source": [
    "a"
   ]
  },
  {
   "cell_type": "code",
   "execution_count": 13,
   "id": "a26518be",
   "metadata": {},
   "outputs": [
    {
     "data": {
      "text/plain": [
       "'Udit'"
      ]
     },
     "execution_count": 13,
     "metadata": {},
     "output_type": "execute_result"
    }
   ],
   "source": [
    "b"
   ]
  },
  {
   "cell_type": "code",
   "execution_count": 14,
   "id": "6d90fc5a",
   "metadata": {},
   "outputs": [
    {
     "data": {
      "text/plain": [
       "'kpg'"
      ]
     },
     "execution_count": 14,
     "metadata": {},
     "output_type": "execute_result"
    }
   ],
   "source": [
    "c"
   ]
  },
  {
   "cell_type": "code",
   "execution_count": 16,
   "id": "2bfca9bf",
   "metadata": {},
   "outputs": [
    {
     "data": {
      "text/plain": [
       "47"
      ]
     },
     "execution_count": 16,
     "metadata": {},
     "output_type": "execute_result"
    }
   ],
   "source": [
    "a = a + 12;\n",
    "a"
   ]
  },
  {
   "cell_type": "code",
   "execution_count": 18,
   "id": "9c29d88a",
   "metadata": {},
   "outputs": [
    {
     "name": "stdout",
     "output_type": "stream",
     "text": [
      "<class 'complex'>\n"
     ]
    }
   ],
   "source": [
    "com = 9 + 6j;\n",
    "print(type(com));"
   ]
  },
  {
   "cell_type": "code",
   "execution_count": 22,
   "id": "9f681b65",
   "metadata": {},
   "outputs": [
    {
     "data": {
      "text/plain": [
       "6.0"
      ]
     },
     "execution_count": 22,
     "metadata": {},
     "output_type": "execute_result"
    }
   ],
   "source": [
    "com.imag   #for seeing function press . then enter tab"
   ]
  },
  {
   "cell_type": "code",
   "execution_count": 23,
   "id": "0e4e0ee3",
   "metadata": {},
   "outputs": [
    {
     "data": {
      "text/plain": [
       "'Udit3'"
      ]
     },
     "execution_count": 23,
     "metadata": {},
     "output_type": "execute_result"
    }
   ],
   "source": [
    "b + \"3\""
   ]
  },
  {
   "cell_type": "code",
   "execution_count": 24,
   "id": "3d20c4bd",
   "metadata": {},
   "outputs": [
    {
     "data": {
      "text/plain": [
       "'Udit3'"
      ]
     },
     "execution_count": 24,
     "metadata": {},
     "output_type": "execute_result"
    }
   ],
   "source": [
    "b + str(3) #this is the inbuilt function which convert 3 into string part and simple concatination occur"
   ]
  },
  {
   "cell_type": "code",
   "execution_count": 25,
   "id": "f1667f75",
   "metadata": {},
   "outputs": [
    {
     "data": {
      "text/plain": [
       "2"
      ]
     },
     "execution_count": 25,
     "metadata": {},
     "output_type": "execute_result"
    }
   ],
   "source": [
    "True + True # True means 1 and False means 0. so here 1 + 1 = 2."
   ]
  },
  {
   "cell_type": "code",
   "execution_count": 5,
   "id": "e40fc041",
   "metadata": {},
   "outputs": [
    {
     "data": {
      "text/plain": [
       "1"
      ]
     },
     "execution_count": 5,
     "metadata": {},
     "output_type": "execute_result"
    }
   ],
   "source": [
    "True - False # 1 - 0 = 1\n"
   ]
  },
  {
   "cell_type": "code",
   "execution_count": 28,
   "id": "4ddfc5c2",
   "metadata": {},
   "outputs": [
    {
     "name": "stdout",
     "output_type": "stream",
     "text": [
      "udit lol\n"
     ]
    }
   ],
   "source": [
    "a = input();  #to take input in run-time."
   ]
  },
  {
   "cell_type": "code",
   "execution_count": 29,
   "id": "ac07e741",
   "metadata": {},
   "outputs": [],
   "source": [
    "s = \"My name is udit\""
   ]
  },
  {
   "cell_type": "code",
   "execution_count": 30,
   "id": "668c0812",
   "metadata": {},
   "outputs": [
    {
     "data": {
      "text/plain": [
       "'M'"
      ]
     },
     "execution_count": 30,
     "metadata": {},
     "output_type": "execute_result"
    }
   ],
   "source": [
    "s[0]"
   ]
  },
  {
   "cell_type": "code",
   "execution_count": 31,
   "id": "e388ee93",
   "metadata": {},
   "outputs": [
    {
     "data": {
      "text/plain": [
       "'t'"
      ]
     },
     "execution_count": 31,
     "metadata": {},
     "output_type": "execute_result"
    }
   ],
   "source": [
    "s[-1]"
   ]
  },
  {
   "cell_type": "code",
   "execution_count": 32,
   "id": "05ec0855",
   "metadata": {},
   "outputs": [
    {
     "data": {
      "text/plain": [
       "'My name i'"
      ]
     },
     "execution_count": 32,
     "metadata": {},
     "output_type": "execute_result"
    }
   ],
   "source": [
    "s[0:9]"
   ]
  },
  {
   "cell_type": "code",
   "execution_count": 37,
   "id": "f4292fc7",
   "metadata": {},
   "outputs": [
    {
     "data": {
      "text/plain": [
       "'na'"
      ]
     },
     "execution_count": 37,
     "metadata": {},
     "output_type": "execute_result"
    }
   ],
   "source": [
    "s[3:5]"
   ]
  },
  {
   "cell_type": "code",
   "execution_count": 38,
   "id": "4e3ca51e",
   "metadata": {},
   "outputs": [
    {
     "data": {
      "text/plain": [
       "'My name is udit'"
      ]
     },
     "execution_count": 38,
     "metadata": {},
     "output_type": "execute_result"
    }
   ],
   "source": [
    "s[0:1999]"
   ]
  },
  {
   "cell_type": "code",
   "execution_count": 39,
   "id": "d5075271",
   "metadata": {},
   "outputs": [
    {
     "data": {
      "text/plain": [
       "'M aei dt'"
      ]
     },
     "execution_count": 39,
     "metadata": {},
     "output_type": "execute_result"
    }
   ],
   "source": [
    "s[0:300:2] # 0 --:>starting index  300 --> 0 to end of the string  2 --> jump.(means how many index it skip and jump)"
   ]
  },
  {
   "cell_type": "code",
   "execution_count": 40,
   "id": "1dfac3bc",
   "metadata": {},
   "outputs": [
    {
     "data": {
      "text/plain": [
       "''"
      ]
     },
     "execution_count": 40,
     "metadata": {},
     "output_type": "execute_result"
    }
   ],
   "source": [
    "s[0:300:-1] # here jump is -1 which goes to negative direction and range is positive because of it we do not get any output"
   ]
  },
  {
   "cell_type": "code",
   "execution_count": 42,
   "id": "55cef2ed",
   "metadata": {},
   "outputs": [
    {
     "data": {
      "text/plain": [
       "''"
      ]
     },
     "execution_count": 42,
     "metadata": {},
     "output_type": "execute_result"
    }
   ],
   "source": [
    "s[-1:-4] # this will also not give output because by default jump is +1 and we try to access negative index with positive\n",
    "# which cause conflict so that it will not give any output"
   ]
  },
  {
   "cell_type": "code",
   "execution_count": 44,
   "id": "8d3347d7",
   "metadata": {},
   "outputs": [
    {
     "data": {
      "text/plain": [
       "'tid'"
      ]
     },
     "execution_count": 44,
     "metadata": {},
     "output_type": "execute_result"
    }
   ],
   "source": [
    "s[-1:-4:-1] "
   ]
  },
  {
   "cell_type": "code",
   "execution_count": 46,
   "id": "4fc756ad",
   "metadata": {},
   "outputs": [
    {
     "data": {
      "text/plain": [
       "'M'"
      ]
     },
     "execution_count": 46,
     "metadata": {},
     "output_type": "execute_result"
    }
   ],
   "source": [
    "s[0:-100:-1] # jump direction or aur index going direction is same or we were in index 0 so we print that index value."
   ]
  },
  {
   "cell_type": "code",
   "execution_count": 6,
   "id": "ae736706",
   "metadata": {},
   "outputs": [],
   "source": [
    "s = \"kumar\""
   ]
  },
  {
   "cell_type": "code",
   "execution_count": 7,
   "id": "755b59a2",
   "metadata": {},
   "outputs": [
    {
     "data": {
      "text/plain": [
       "'ar'"
      ]
     },
     "execution_count": 7,
     "metadata": {},
     "output_type": "execute_result"
    }
   ],
   "source": [
    "s[-2:] #because we are trying to go on positive side and jump is also positive start with -2 index and move forward."
   ]
  },
  {
   "cell_type": "code",
   "execution_count": 8,
   "id": "a78cac3f",
   "metadata": {},
   "outputs": [
    {
     "data": {
      "text/plain": [
       "'a'"
      ]
     },
     "execution_count": 8,
     "metadata": {},
     "output_type": "execute_result"
    }
   ],
   "source": [
    "s[-2:-1] # because we move in positive direction -2 to -1 and our jump is also in positive direction be defause jump is 1."
   ]
  },
  {
   "cell_type": "code",
   "execution_count": 9,
   "id": "06a89e74",
   "metadata": {},
   "outputs": [
    {
     "data": {
      "text/plain": [
       "'ramuk'"
      ]
     },
     "execution_count": 9,
     "metadata": {},
     "output_type": "execute_result"
    }
   ],
   "source": [
    "s[::-1] # gives reverse of the string;"
   ]
  },
  {
   "cell_type": "code",
   "execution_count": 10,
   "id": "6bc6bb01",
   "metadata": {},
   "outputs": [
    {
     "data": {
      "text/plain": [
       "'ramuk'"
      ]
     },
     "execution_count": 10,
     "metadata": {},
     "output_type": "execute_result"
    }
   ],
   "source": [
    "s[-1::-1]"
   ]
  },
  {
   "cell_type": "code",
   "execution_count": 11,
   "id": "a6212896",
   "metadata": {},
   "outputs": [],
   "source": [
    "s = \"My Name is udit purohit\";"
   ]
  },
  {
   "cell_type": "code",
   "execution_count": 12,
   "id": "3b386077",
   "metadata": {},
   "outputs": [
    {
     "data": {
      "text/plain": [
       "''"
      ]
     },
     "execution_count": 12,
     "metadata": {},
     "output_type": "execute_result"
    }
   ],
   "source": [
    "s[-5:5] # we are trying at 'r' and we want to go to +ve 5  but our direction of jump is +ve side so we cannot access it."
   ]
  },
  {
   "cell_type": "code",
   "execution_count": 13,
   "id": "d01aaf68",
   "metadata": {},
   "outputs": [
    {
     "data": {
      "text/plain": [
       "'rup tidu si e'"
      ]
     },
     "execution_count": 13,
     "metadata": {},
     "output_type": "execute_result"
    }
   ],
   "source": [
    "s[-5:5:-1] # we start at 'r' and want to go +ve 5 which is in right side and our jump is also in right side -5-1 = -6 so it\n",
    "# work perfectly"
   ]
  },
  {
   "cell_type": "code",
   "execution_count": 14,
   "id": "582cd139",
   "metadata": {},
   "outputs": [
    {
     "data": {
      "text/plain": [
       "'uditudituditudit'"
      ]
     },
     "execution_count": 14,
     "metadata": {},
     "output_type": "execute_result"
    }
   ],
   "source": [
    "\"udit\"*4"
   ]
  },
  {
   "cell_type": "code",
   "execution_count": 15,
   "id": "65409ba8",
   "metadata": {},
   "outputs": [],
   "source": [
    "s = \"Hello to all kaise ho aap sab mein toh theek hu tum batao\""
   ]
  },
  {
   "cell_type": "code",
   "execution_count": 16,
   "id": "64403e51",
   "metadata": {},
   "outputs": [
    {
     "data": {
      "text/plain": [
       "2"
      ]
     },
     "execution_count": 16,
     "metadata": {},
     "output_type": "execute_result"
    }
   ],
   "source": [
    "s.find('l')"
   ]
  },
  {
   "cell_type": "code",
   "execution_count": 17,
   "id": "83c8f357",
   "metadata": {},
   "outputs": [
    {
     "data": {
      "text/plain": [
       "2"
      ]
     },
     "execution_count": 17,
     "metadata": {},
     "output_type": "execute_result"
    }
   ],
   "source": [
    "s.count('i') #give the occurence "
   ]
  },
  {
   "cell_type": "code",
   "execution_count": 18,
   "id": "4c298e45",
   "metadata": {},
   "outputs": [
    {
     "data": {
      "text/plain": [
       "['Hello',\n",
       " 'to',\n",
       " 'all',\n",
       " 'kaise',\n",
       " 'ho',\n",
       " 'aap',\n",
       " 'sab',\n",
       " 'mein',\n",
       " 'toh',\n",
       " 'theek',\n",
       " 'hu',\n",
       " 'tum',\n",
       " 'batao']"
      ]
     },
     "execution_count": 18,
     "metadata": {},
     "output_type": "execute_result"
    }
   ],
   "source": [
    "s.split() #by default take white space as seperator"
   ]
  },
  {
   "cell_type": "code",
   "execution_count": 19,
   "id": "e8b3d5cd",
   "metadata": {},
   "outputs": [
    {
     "data": {
      "text/plain": [
       "'Hello'"
      ]
     },
     "execution_count": 19,
     "metadata": {},
     "output_type": "execute_result"
    }
   ],
   "source": [
    "l = s.split()\n",
    "l[0]"
   ]
  },
  {
   "cell_type": "code",
   "execution_count": 20,
   "id": "d674e743",
   "metadata": {},
   "outputs": [
    {
     "data": {
      "text/plain": [
       "['H', 'llo to all kais', ' ho aap sab m', 'in toh th', '', 'k hu tum batao']"
      ]
     },
     "execution_count": 20,
     "metadata": {},
     "output_type": "execute_result"
    }
   ],
   "source": [
    "l = s.split('e')\n",
    "l"
   ]
  },
  {
   "cell_type": "code",
   "execution_count": 21,
   "id": "793c3aeb",
   "metadata": {},
   "outputs": [
    {
     "data": {
      "text/plain": [
       "'HELLO TO ALL KAISE HO AAP SAB MEIN TOH THEEK HU TUM BATAO'"
      ]
     },
     "execution_count": 21,
     "metadata": {},
     "output_type": "execute_result"
    }
   ],
   "source": [
    "s.upper()"
   ]
  },
  {
   "cell_type": "code",
   "execution_count": 22,
   "id": "0911b7ce",
   "metadata": {},
   "outputs": [
    {
     "data": {
      "text/plain": [
       "'hELLO TO ALL KAISE HO AAP SAB MEIN TOH THEEK HU TUM BATAO'"
      ]
     },
     "execution_count": 22,
     "metadata": {},
     "output_type": "execute_result"
    }
   ],
   "source": [
    "s.swapcase() #lower to upper and upper to lower"
   ]
  },
  {
   "cell_type": "code",
   "execution_count": 23,
   "id": "094467cc",
   "metadata": {},
   "outputs": [
    {
     "data": {
      "text/plain": [
       "'pudituuditruditoudithuditiuditt'"
      ]
     },
     "execution_count": 23,
     "metadata": {},
     "output_type": "execute_result"
    }
   ],
   "source": [
    "a = \"udit\"\n",
    "b = \"purohit\"\n",
    "a.join(b)"
   ]
  },
  {
   "cell_type": "code",
   "execution_count": 24,
   "id": "a6cc3836",
   "metadata": {},
   "outputs": [],
   "source": [
    "l = [\"udit\",1,\"kpg\"]"
   ]
  },
  {
   "cell_type": "code",
   "execution_count": 25,
   "id": "dfbe7ef9",
   "metadata": {},
   "outputs": [
    {
     "data": {
      "text/plain": [
       "'d'"
      ]
     },
     "execution_count": 25,
     "metadata": {},
     "output_type": "execute_result"
    }
   ],
   "source": [
    "l[0][1]"
   ]
  },
  {
   "cell_type": "code",
   "execution_count": 26,
   "id": "76a38562",
   "metadata": {},
   "outputs": [
    {
     "data": {
      "text/plain": [
       "list"
      ]
     },
     "execution_count": 26,
     "metadata": {},
     "output_type": "execute_result"
    }
   ],
   "source": [
    "type(l)"
   ]
  },
  {
   "cell_type": "code",
   "execution_count": 27,
   "id": "121e8972",
   "metadata": {},
   "outputs": [
    {
     "data": {
      "text/plain": [
       "True"
      ]
     },
     "execution_count": 27,
     "metadata": {},
     "output_type": "execute_result"
    }
   ],
   "source": [
    "\"udit\" in l"
   ]
  },
  {
   "cell_type": "code",
   "execution_count": 28,
   "id": "773ee363",
   "metadata": {},
   "outputs": [
    {
     "data": {
      "text/plain": [
       "False"
      ]
     },
     "execution_count": 28,
     "metadata": {},
     "output_type": "execute_result"
    }
   ],
   "source": [
    "\"aman\" in l"
   ]
  },
  {
   "cell_type": "code",
   "execution_count": 29,
   "id": "5c5eb290",
   "metadata": {},
   "outputs": [],
   "source": [
    "l.append(4)"
   ]
  },
  {
   "cell_type": "code",
   "execution_count": 30,
   "id": "a512a1fd",
   "metadata": {},
   "outputs": [
    {
     "data": {
      "text/plain": [
       "['udit', 1, 'kpg', 4]"
      ]
     },
     "execution_count": 30,
     "metadata": {},
     "output_type": "execute_result"
    }
   ],
   "source": [
    "l"
   ]
  },
  {
   "cell_type": "code",
   "execution_count": 31,
   "id": "9f6cc3b1",
   "metadata": {},
   "outputs": [],
   "source": [
    "l.remove(\"udit\")"
   ]
  },
  {
   "cell_type": "code",
   "execution_count": 32,
   "id": "7d86ac05",
   "metadata": {},
   "outputs": [
    {
     "data": {
      "text/plain": [
       "[1, 'kpg', 4]"
      ]
     },
     "execution_count": 32,
     "metadata": {},
     "output_type": "execute_result"
    }
   ],
   "source": [
    "l"
   ]
  },
  {
   "cell_type": "code",
   "execution_count": 33,
   "id": "b3fe92f5",
   "metadata": {},
   "outputs": [
    {
     "data": {
      "text/plain": [
       "4"
      ]
     },
     "execution_count": 33,
     "metadata": {},
     "output_type": "execute_result"
    }
   ],
   "source": [
    "l.pop() #by default delete last element;"
   ]
  },
  {
   "cell_type": "code",
   "execution_count": 34,
   "id": "7f8a244b",
   "metadata": {},
   "outputs": [
    {
     "data": {
      "text/plain": [
       "[1, 'kpg']"
      ]
     },
     "execution_count": 34,
     "metadata": {},
     "output_type": "execute_result"
    }
   ],
   "source": [
    "l"
   ]
  },
  {
   "cell_type": "code",
   "execution_count": 35,
   "id": "1e406399",
   "metadata": {},
   "outputs": [],
   "source": [
    "l.insert(0,\"udit\")"
   ]
  },
  {
   "cell_type": "code",
   "execution_count": 36,
   "id": "807a2a89",
   "metadata": {},
   "outputs": [
    {
     "data": {
      "text/plain": [
       "['udit', 1, 'kpg']"
      ]
     },
     "execution_count": 36,
     "metadata": {},
     "output_type": "execute_result"
    }
   ],
   "source": [
    "l"
   ]
  },
  {
   "cell_type": "code",
   "execution_count": 37,
   "id": "9a7fa8dd",
   "metadata": {},
   "outputs": [],
   "source": [
    "l.append([23,\"aman\"])"
   ]
  },
  {
   "cell_type": "code",
   "execution_count": 38,
   "id": "2eeebb4f",
   "metadata": {},
   "outputs": [
    {
     "data": {
      "text/plain": [
       "['udit', 1, 'kpg', [23, 'aman']]"
      ]
     },
     "execution_count": 38,
     "metadata": {},
     "output_type": "execute_result"
    }
   ],
   "source": [
    "l"
   ]
  },
  {
   "cell_type": "code",
   "execution_count": 39,
   "id": "b832c867",
   "metadata": {},
   "outputs": [],
   "source": [
    "l.extend([0,\"giyan\"])"
   ]
  },
  {
   "cell_type": "code",
   "execution_count": 40,
   "id": "25303747",
   "metadata": {},
   "outputs": [
    {
     "data": {
      "text/plain": [
       "['udit', 1, 'kpg', [23, 'aman'], 0, 'giyan']"
      ]
     },
     "execution_count": 40,
     "metadata": {},
     "output_type": "execute_result"
    }
   ],
   "source": [
    "l # this is the diff between extend and append insert whole list as it is while extend insert element of the list."
   ]
  },
  {
   "cell_type": "code",
   "execution_count": 41,
   "id": "864c80ed",
   "metadata": {},
   "outputs": [
    {
     "data": {
      "text/plain": [
       "[2, 2, 3, 4, 55, 3, 1, 3, 4]"
      ]
     },
     "execution_count": 41,
     "metadata": {},
     "output_type": "execute_result"
    }
   ],
   "source": [
    "[2,2,3,4,55,3] + [1,3,4]"
   ]
  },
  {
   "cell_type": "markdown",
   "id": "f9747363",
   "metadata": {},
   "source": [
    "# TUPLE"
   ]
  },
  {
   "cell_type": "code",
   "execution_count": 42,
   "id": "8766420c",
   "metadata": {},
   "outputs": [
    {
     "data": {
      "text/plain": [
       "tuple"
      ]
     },
     "execution_count": 42,
     "metadata": {},
     "output_type": "execute_result"
    }
   ],
   "source": [
    "t = (1,2,3,4,5)\n",
    "type(t)"
   ]
  },
  {
   "cell_type": "code",
   "execution_count": 43,
   "id": "b844c4fb",
   "metadata": {},
   "outputs": [
    {
     "data": {
      "text/plain": [
       "(1, 2)"
      ]
     },
     "execution_count": 43,
     "metadata": {},
     "output_type": "execute_result"
    }
   ],
   "source": [
    "t[0:2]"
   ]
  },
  {
   "cell_type": "code",
   "execution_count": 44,
   "id": "70688a79",
   "metadata": {},
   "outputs": [],
   "source": [
    "t = (1,2,(2,3,4),\"udit\")"
   ]
  },
  {
   "cell_type": "code",
   "execution_count": 45,
   "id": "3aad23fd",
   "metadata": {},
   "outputs": [
    {
     "data": {
      "text/plain": [
       "('udit', (2, 3, 4), 2, 1)"
      ]
     },
     "execution_count": 45,
     "metadata": {},
     "output_type": "execute_result"
    }
   ],
   "source": [
    "t[::-1]"
   ]
  },
  {
   "cell_type": "code",
   "execution_count": 46,
   "id": "4a513a5f",
   "metadata": {},
   "outputs": [
    {
     "data": {
      "text/plain": [
       "(1, 2, (2, 3, 4))"
      ]
     },
     "execution_count": 46,
     "metadata": {},
     "output_type": "execute_result"
    }
   ],
   "source": [
    "t[0:3]"
   ]
  },
  {
   "cell_type": "code",
   "execution_count": 47,
   "id": "6641043f",
   "metadata": {},
   "outputs": [],
   "source": [
    "l1 = list(t) #convert tuple to list."
   ]
  },
  {
   "cell_type": "code",
   "execution_count": 48,
   "id": "242430ad",
   "metadata": {},
   "outputs": [],
   "source": [
    "t = tuple(l1) #convert back list to tuple."
   ]
  },
  {
   "cell_type": "code",
   "execution_count": 49,
   "id": "c492fd63",
   "metadata": {},
   "outputs": [
    {
     "ename": "TypeError",
     "evalue": "'tuple' object does not support item assignment",
     "output_type": "error",
     "traceback": [
      "\u001b[1;31m---------------------------------------------------------------------------\u001b[0m",
      "\u001b[1;31mTypeError\u001b[0m                                 Traceback (most recent call last)",
      "\u001b[1;32mC:\\Users\\ADITYA~1\\AppData\\Local\\Temp/ipykernel_27864/920437348.py\u001b[0m in \u001b[0;36m<module>\u001b[1;34m\u001b[0m\n\u001b[1;32m----> 1\u001b[1;33m \u001b[0mt\u001b[0m\u001b[1;33m[\u001b[0m\u001b[1;36m0\u001b[0m\u001b[1;33m]\u001b[0m \u001b[1;33m=\u001b[0m \u001b[1;34m\"udit\"\u001b[0m\u001b[1;33m\u001b[0m\u001b[1;33m\u001b[0m\u001b[0m\n\u001b[0m",
      "\u001b[1;31mTypeError\u001b[0m: 'tuple' object does not support item assignment"
     ]
    }
   ],
   "source": [
    "t[0] = \"udit\""
   ]
  },
  {
   "cell_type": "markdown",
   "id": "1678c827",
   "metadata": {},
   "source": [
    "# SET\n"
   ]
  },
  {
   "cell_type": "code",
   "execution_count": 50,
   "id": "f1976f7b",
   "metadata": {},
   "outputs": [],
   "source": [
    "l = [1,2,3,1,1,2,1,4,5,6,3,4,6] #set doen't contain any duplicate value.\n",
    "l1 = set(l)"
   ]
  },
  {
   "cell_type": "code",
   "execution_count": 51,
   "id": "8d9ceddb",
   "metadata": {},
   "outputs": [],
   "source": [
    "s = {1,2,4,2,9,2,2,1,1}"
   ]
  },
  {
   "cell_type": "code",
   "execution_count": 52,
   "id": "47231a61",
   "metadata": {},
   "outputs": [
    {
     "data": {
      "text/plain": [
       "set"
      ]
     },
     "execution_count": 52,
     "metadata": {},
     "output_type": "execute_result"
    }
   ],
   "source": [
    "type(s)"
   ]
  },
  {
   "cell_type": "code",
   "execution_count": 53,
   "id": "c1ea42e7",
   "metadata": {},
   "outputs": [
    {
     "ename": "TypeError",
     "evalue": "'set' object is not subscriptable",
     "output_type": "error",
     "traceback": [
      "\u001b[1;31m---------------------------------------------------------------------------\u001b[0m",
      "\u001b[1;31mTypeError\u001b[0m                                 Traceback (most recent call last)",
      "\u001b[1;32mC:\\Users\\ADITYA~1\\AppData\\Local\\Temp/ipykernel_27864/1262394430.py\u001b[0m in \u001b[0;36m<module>\u001b[1;34m\u001b[0m\n\u001b[1;32m----> 1\u001b[1;33m \u001b[0ms\u001b[0m\u001b[1;33m[\u001b[0m\u001b[1;36m0\u001b[0m\u001b[1;33m]\u001b[0m \u001b[1;31m#no indexing available.\u001b[0m\u001b[1;33m\u001b[0m\u001b[1;33m\u001b[0m\u001b[0m\n\u001b[0m",
      "\u001b[1;31mTypeError\u001b[0m: 'set' object is not subscriptable"
     ]
    }
   ],
   "source": [
    "s[0] #no indexing available."
   ]
  },
  {
   "cell_type": "code",
   "execution_count": 54,
   "id": "b0d1c566",
   "metadata": {},
   "outputs": [
    {
     "data": {
      "text/plain": [
       "[1, 2, 4, 9]"
      ]
     },
     "execution_count": 54,
     "metadata": {},
     "output_type": "execute_result"
    }
   ],
   "source": [
    "l = list(s);\n",
    "l"
   ]
  },
  {
   "cell_type": "code",
   "execution_count": 55,
   "id": "9d2a5bb7",
   "metadata": {},
   "outputs": [
    {
     "data": {
      "text/plain": [
       "{1, 2, 4, 9, 90}"
      ]
     },
     "execution_count": 55,
     "metadata": {},
     "output_type": "execute_result"
    }
   ],
   "source": [
    "s.add(90)\n",
    "s"
   ]
  },
  {
   "cell_type": "code",
   "execution_count": 56,
   "id": "795593b7",
   "metadata": {},
   "outputs": [
    {
     "data": {
      "text/plain": [
       "{(1, 2, 3, 2), 1, 2, 4, 9, 90}"
      ]
     },
     "execution_count": 56,
     "metadata": {},
     "output_type": "execute_result"
    }
   ],
   "source": [
    "s.add((1,2,3,2))\n",
    "s"
   ]
  },
  {
   "cell_type": "code",
   "execution_count": 57,
   "id": "2a5196aa",
   "metadata": {},
   "outputs": [
    {
     "ename": "TypeError",
     "evalue": "unhashable type: 'list'",
     "output_type": "error",
     "traceback": [
      "\u001b[1;31m---------------------------------------------------------------------------\u001b[0m",
      "\u001b[1;31mTypeError\u001b[0m                                 Traceback (most recent call last)",
      "\u001b[1;32mC:\\Users\\ADITYA~1\\AppData\\Local\\Temp/ipykernel_27864/1468413654.py\u001b[0m in \u001b[0;36m<module>\u001b[1;34m\u001b[0m\n\u001b[1;32m----> 1\u001b[1;33m \u001b[0ms\u001b[0m\u001b[1;33m.\u001b[0m\u001b[0madd\u001b[0m\u001b[1;33m(\u001b[0m\u001b[1;33m[\u001b[0m\u001b[1;36m2\u001b[0m\u001b[1;33m,\u001b[0m\u001b[1;36m2\u001b[0m\u001b[1;33m,\u001b[0m\u001b[1;36m3\u001b[0m\u001b[1;33m,\u001b[0m\u001b[1;36m4\u001b[0m\u001b[1;33m,\u001b[0m\u001b[1;36m1\u001b[0m\u001b[1;33m]\u001b[0m\u001b[1;33m)\u001b[0m\u001b[1;31m#tuple is immutable so it allowed and list is not immutable no reject.\u001b[0m\u001b[1;33m\u001b[0m\u001b[1;33m\u001b[0m\u001b[0m\n\u001b[0m",
      "\u001b[1;31mTypeError\u001b[0m: unhashable type: 'list'"
     ]
    }
   ],
   "source": [
    "s.add([2,2,3,4,1])#tuple is immutable so it allowed and list is not immutable no reject."
   ]
  },
  {
   "cell_type": "code",
   "execution_count": 58,
   "id": "11953146",
   "metadata": {},
   "outputs": [
    {
     "data": {
      "text/plain": [
       "{(1, 2, 3, 2), (1, 2, 3, 4), 1, 2, 4, 9, 90}"
      ]
     },
     "execution_count": 58,
     "metadata": {},
     "output_type": "execute_result"
    }
   ],
   "source": [
    "s.add(tuple([1,2,3,4]))\n",
    "s"
   ]
  },
  {
   "cell_type": "markdown",
   "id": "8f4fe14e",
   "metadata": {},
   "source": [
    "# Dictionary"
   ]
  },
  {
   "cell_type": "code",
   "execution_count": 59,
   "id": "5b1d10c1",
   "metadata": {},
   "outputs": [],
   "source": [
    "d = {\"key1\":3, \"key2\" :4} # also called as key value pair"
   ]
  },
  {
   "cell_type": "code",
   "execution_count": 60,
   "id": "9e92cb76",
   "metadata": {},
   "outputs": [
    {
     "data": {
      "text/plain": [
       "3"
      ]
     },
     "execution_count": 60,
     "metadata": {},
     "output_type": "execute_result"
    }
   ],
   "source": [
    "d[\"key1\"] "
   ]
  },
  {
   "cell_type": "code",
   "execution_count": 61,
   "id": "b29d9658",
   "metadata": {},
   "outputs": [
    {
     "data": {
      "text/plain": [
       "{'key1': 3, 'key2': 4, 'key3': 4}"
      ]
     },
     "execution_count": 61,
     "metadata": {},
     "output_type": "execute_result"
    }
   ],
   "source": [
    "d[\"key3\"] = 4\n",
    "d"
   ]
  },
  {
   "cell_type": "code",
   "execution_count": 62,
   "id": "7910706f",
   "metadata": {},
   "outputs": [
    {
     "data": {
      "text/plain": [
       "dict_keys(['key1', 'key2', 'key3'])"
      ]
     },
     "execution_count": 62,
     "metadata": {},
     "output_type": "execute_result"
    }
   ],
   "source": [
    "d.keys()"
   ]
  },
  {
   "cell_type": "code",
   "execution_count": 63,
   "id": "d0442fb5",
   "metadata": {},
   "outputs": [
    {
     "data": {
      "text/plain": [
       "dict_values([3, 4, 4])"
      ]
     },
     "execution_count": 63,
     "metadata": {},
     "output_type": "execute_result"
    }
   ],
   "source": [
    "d.values()"
   ]
  },
  {
   "cell_type": "code",
   "execution_count": 64,
   "id": "495f0fc6",
   "metadata": {},
   "outputs": [],
   "source": [
    "del d[\"key1\"]"
   ]
  },
  {
   "cell_type": "code",
   "execution_count": 65,
   "id": "a8d4b54f",
   "metadata": {},
   "outputs": [
    {
     "data": {
      "text/plain": [
       "{'key2': 4, 'key3': 4}"
      ]
     },
     "execution_count": 65,
     "metadata": {},
     "output_type": "execute_result"
    }
   ],
   "source": [
    "d"
   ]
  },
  {
   "cell_type": "code",
   "execution_count": 66,
   "id": "ed9e0c3e",
   "metadata": {},
   "outputs": [
    {
     "data": {
      "text/plain": [
       "{'key2': 4, 'key3': 4, 'name': 'udit', 4: 'purohit'}"
      ]
     },
     "execution_count": 66,
     "metadata": {},
     "output_type": "execute_result"
    }
   ],
   "source": [
    "d2 = {\"name\" : \"udit\", 4 : \"purohit\"}\n",
    "d.update(d2) # here we concatinate d2 with d. resultant dictionary is d.\n",
    "d"
   ]
  },
  {
   "cell_type": "code",
   "execution_count": 67,
   "id": "eeeefa49",
   "metadata": {},
   "outputs": [
    {
     "data": {
      "text/plain": [
       "{'name': 'udit', 4: 'purohit'}"
      ]
     },
     "execution_count": 67,
     "metadata": {},
     "output_type": "execute_result"
    }
   ],
   "source": [
    "d2"
   ]
  },
  {
   "cell_type": "code",
   "execution_count": 68,
   "id": "fdb275b8",
   "metadata": {},
   "outputs": [
    {
     "data": {
      "text/plain": [
       "{'name': 'udit', 'mobile_no': 'udit', 'email_id': 'udit'}"
      ]
     },
     "execution_count": 68,
     "metadata": {},
     "output_type": "execute_result"
    }
   ],
   "source": [
    "key = (\"name\",\"mobile_no\",\"email_id\")\n",
    "value = \"udit\"\n",
    "d = d.fromkeys(key,value)\n",
    "d"
   ]
  },
  {
   "cell_type": "code",
   "execution_count": 69,
   "id": "63cb72e3",
   "metadata": {},
   "outputs": [
    {
     "name": "stdout",
     "output_type": "stream",
     "text": [
      "true\n"
     ]
    }
   ],
   "source": [
    "a = 10\n",
    "if(a < 15):\n",
    "    print(\"true\")"
   ]
  },
  {
   "cell_type": "code",
   "execution_count": 70,
   "id": "82f34dc3",
   "metadata": {},
   "outputs": [
    {
     "name": "stdout",
     "output_type": "stream",
     "text": [
      "1\n",
      "2\n",
      "3\n",
      "4\n",
      "5\n",
      "6\n",
      "6\n"
     ]
    }
   ],
   "source": [
    "l = [1,2,3,4,5,6,6]\n",
    "for i in l:\n",
    "    print(i)"
   ]
  },
  {
   "cell_type": "code",
   "execution_count": 71,
   "id": "3c46efea",
   "metadata": {},
   "outputs": [
    {
     "name": "stdout",
     "output_type": "stream",
     "text": [
      "[3, 2, 3, 4, 5, 6, 6]\n",
      "[3, 4, 3, 4, 5, 6, 6]\n",
      "[3, 4, 5, 4, 5, 6, 6]\n",
      "[3, 4, 5, 6, 5, 6, 6]\n",
      "[3, 4, 5, 6, 7, 6, 6]\n",
      "[3, 4, 5, 6, 7, 8, 6]\n",
      "[3, 4, 5, 6, 7, 8, 8]\n"
     ]
    }
   ],
   "source": [
    "j = 0\n",
    "for i in l:\n",
    "    l[j] = i+2;\n",
    "    print(l)\n",
    "    j += 1"
   ]
  },
  {
   "cell_type": "code",
   "execution_count": 72,
   "id": "7a1bd79d",
   "metadata": {},
   "outputs": [
    {
     "data": {
      "text/plain": [
       "[3, 5, 6, 7, 8, 6]"
      ]
     },
     "execution_count": 72,
     "metadata": {},
     "output_type": "execute_result"
    }
   ],
   "source": [
    "l = [1,3,4,5,6,4]\n",
    "l1 = []\n",
    "for i in l:\n",
    "    l1.append(i+2)\n",
    "l1"
   ]
  },
  {
   "cell_type": "markdown",
   "id": "e4e46f13",
   "metadata": {},
   "source": [
    "# for loop and while loop------------------------------------------------------->\n"
   ]
  },
  {
   "cell_type": "code",
   "execution_count": 73,
   "id": "8c2436e0",
   "metadata": {},
   "outputs": [
    {
     "name": "stdout",
     "output_type": "stream",
     "text": [
      "1\n",
      "2\n",
      "3\n",
      "4\n",
      "6\n",
      "7\n",
      "8\n",
      "3\n",
      "udit\n"
     ]
    }
   ],
   "source": [
    "l = [1,2,3,4,[6,7,8,3],\"udit\"]\n",
    "for i in l:\n",
    "    if(type(i) == int):\n",
    "        print(i)\n",
    "    elif(type(i) == list):\n",
    "        for it in i:\n",
    "            print(it)\n",
    "    else:\n",
    "        print(i)"
   ]
  },
  {
   "cell_type": "code",
   "execution_count": 74,
   "id": "ef4c4ee1",
   "metadata": {},
   "outputs": [
    {
     "data": {
      "text/plain": [
       "range(0, 4)"
      ]
     },
     "execution_count": 74,
     "metadata": {},
     "output_type": "execute_result"
    }
   ],
   "source": [
    "l = [1,2,3,4,\"udit\"]\n",
    "range(4)"
   ]
  },
  {
   "cell_type": "code",
   "execution_count": 75,
   "id": "28b2b63f",
   "metadata": {},
   "outputs": [
    {
     "data": {
      "text/plain": [
       "range(0, 5)"
      ]
     },
     "execution_count": 75,
     "metadata": {},
     "output_type": "execute_result"
    }
   ],
   "source": [
    "range(len(l))"
   ]
  },
  {
   "cell_type": "code",
   "execution_count": 76,
   "id": "76db526d",
   "metadata": {},
   "outputs": [
    {
     "name": "stdout",
     "output_type": "stream",
     "text": [
      "index  0 for an element  1\n",
      "index  1 for an element  2\n",
      "index  2 for an element  3\n",
      "index  3 for an element  4\n",
      "index  4 for an element  udit\n"
     ]
    }
   ],
   "source": [
    "for i in range(len(l)):\n",
    "    print(\"index \",i,\"for an element \", l[i])"
   ]
  },
  {
   "cell_type": "code",
   "execution_count": 77,
   "id": "038f1a80",
   "metadata": {},
   "outputs": [
    {
     "data": {
      "text/plain": [
       "['u', 'd', 'i', 't']"
      ]
     },
     "execution_count": 77,
     "metadata": {},
     "output_type": "execute_result"
    }
   ],
   "source": [
    "l1 = []\n",
    "for i in l:\n",
    "    if(type(i) == str):\n",
    "        for it in i:\n",
    "            l1.append(it)\n",
    "l1   "
   ]
  },
  {
   "cell_type": "code",
   "execution_count": 79,
   "id": "108c3b83",
   "metadata": {},
   "outputs": [
    {
     "name": "stdout",
     "output_type": "stream",
     "text": [
      "u\n",
      "d\n",
      "i\n",
      "t\n",
      "Hello\n"
     ]
    }
   ],
   "source": [
    "for i in l1:\n",
    "    print(i)\n",
    "else:\n",
    "    print(\"Hello\")"
   ]
  },
  {
   "cell_type": "code",
   "execution_count": 84,
   "id": "b3415441",
   "metadata": {},
   "outputs": [],
   "source": [
    "for i in l1:\n",
    "    if(i == 'u'):\n",
    "        break\n",
    "    print(i)\n",
    "else:\n",
    "    print(\"Hello\")\n",
    "    \n",
    "# here we see that now our else doesn't work why ?\n",
    "# if for loop endup exhausting the entire list then only it will ableto come at elsepart otherwise it will not enter in else"
   ]
  },
  {
   "cell_type": "code",
   "execution_count": null,
   "id": "22a5c3b9",
   "metadata": {},
   "outputs": [],
   "source": [
    "#if you want to write dead code then\n",
    "while 2 < 5 :\n",
    "    pass   #pass is imp.to write otherwise this code give error."
   ]
  },
  {
   "cell_type": "code",
   "execution_count": 14,
   "id": "9296e529",
   "metadata": {},
   "outputs": [
    {
     "name": "stdout",
     "output_type": "stream",
     "text": [
      "*\r\n",
      "**\r\n",
      "***\r\n",
      "****\r\n",
      "*****\r\n"
     ]
    }
   ],
   "source": [
    "#pattern question\n",
    "n = 5;\n",
    "for i in range(0,n):\n",
    "    for j in range(0,i+1):\n",
    "        print(\"*\",end = \"\")\n",
    "    print(\"\\r\")"
   ]
  },
  {
   "cell_type": "code",
   "execution_count": 18,
   "id": "95ff7d69",
   "metadata": {},
   "outputs": [
    {
     "data": {
      "text/plain": [
       "[0, 1, 2, 3, 4]"
      ]
     },
     "execution_count": 18,
     "metadata": {},
     "output_type": "execute_result"
    }
   ],
   "source": [
    "list(range(0,n)) "
   ]
  },
  {
   "cell_type": "code",
   "execution_count": 19,
   "id": "1a7adfc3",
   "metadata": {},
   "outputs": [
    {
     "name": "stdout",
     "output_type": "stream",
     "text": [
      "0\n",
      "1\n",
      "2\n",
      "3\n",
      "4\n",
      "5\n",
      "6\n",
      "7\n",
      "8\n",
      "9\n"
     ]
    }
   ],
   "source": [
    "i =0\n",
    "while(i < 10):\n",
    "    print(i)\n",
    "    i = i+1;"
   ]
  },
  {
   "cell_type": "code",
   "execution_count": 21,
   "id": "f6a183df",
   "metadata": {},
   "outputs": [
    {
     "data": {
      "text/plain": [
       "[1, 2, 3, 4, 5, 6, 7]"
      ]
     },
     "execution_count": 21,
     "metadata": {},
     "output_type": "execute_result"
    }
   ],
   "source": [
    "l = [1,2,3,4,5,6,7]\n",
    "l"
   ]
  },
  {
   "cell_type": "code",
   "execution_count": 23,
   "id": "7d292a8b",
   "metadata": {},
   "outputs": [
    {
     "data": {
      "text/plain": [
       "[6, 5, 4, 3, 2, 1, 0]"
      ]
     },
     "execution_count": 23,
     "metadata": {},
     "output_type": "execute_result"
    }
   ],
   "source": [
    "list(range(len(l)-1,-1,-1))"
   ]
  },
  {
   "cell_type": "code",
   "execution_count": 25,
   "id": "448b7937",
   "metadata": {},
   "outputs": [
    {
     "name": "stdout",
     "output_type": "stream",
     "text": [
      "key1 udit\n",
      "key2 purohit\n"
     ]
    }
   ],
   "source": [
    "d = {'key1' : \"udit\",\"key2\" : \"purohit\"}\n",
    "for i in d:\n",
    "    print(i,d[i])"
   ]
  },
  {
   "cell_type": "code",
   "execution_count": 26,
   "id": "21d969c7",
   "metadata": {},
   "outputs": [
    {
     "data": {
      "text/plain": [
       "dict_items([('key1', 'udit'), ('key2', 'purohit')])"
      ]
     },
     "execution_count": 26,
     "metadata": {},
     "output_type": "execute_result"
    }
   ],
   "source": [
    "d.items()"
   ]
  },
  {
   "cell_type": "code",
   "execution_count": 27,
   "id": "c49a6817",
   "metadata": {},
   "outputs": [
    {
     "name": "stdout",
     "output_type": "stream",
     "text": [
      "('key1', 'udit')\n",
      "('key2', 'purohit')\n"
     ]
    }
   ],
   "source": [
    "for i in d.items():\n",
    "    print(i)"
   ]
  },
  {
   "cell_type": "code",
   "execution_count": 31,
   "id": "23141f89",
   "metadata": {},
   "outputs": [
    {
     "name": "stdout",
     "output_type": "stream",
     "text": [
      "lla ot olleh"
     ]
    }
   ],
   "source": [
    "s = \"hello to all\"\n",
    "for i in range(len(s)-1,-1,-1):\n",
    "    print(s[i],end = \"\")"
   ]
  },
  {
   "cell_type": "code",
   "execution_count": 35,
   "id": "d0c6a361",
   "metadata": {},
   "outputs": [
    {
     "name": "stdout",
     "output_type": "stream",
     "text": [
      "palindrom\r\n"
     ]
    }
   ],
   "source": [
    "#make a palindrom program...\n",
    "# \\r is for next line just like \\n in c or c++.\n",
    "a = \"naman\"\n",
    "s = a[::-1]\n",
    "if(a == s):\n",
    "    print(\"palindrom\\r\")"
   ]
  },
  {
   "cell_type": "code",
   "execution_count": 39,
   "id": "b5351603",
   "metadata": {},
   "outputs": [
    {
     "name": "stdout",
     "output_type": "stream",
     "text": [
      "Not a palindrom\n"
     ]
    }
   ],
   "source": [
    "#method 2\n",
    "a = \"naman\"\n",
    "i =0;\n",
    "while i < len(a):\n",
    "    if(a[i] != a[len(a)-i -1]):\n",
    "        print(\"Not a palindrom\")\n",
    "        break;\n",
    "    i = i+1;\n",
    "else:\n",
    "    print(\"Palindrom\")"
   ]
  },
  {
   "cell_type": "code",
   "execution_count": 41,
   "id": "af8a1baf",
   "metadata": {},
   "outputs": [],
   "source": [
    "d = {\"india\" : \"IN\",\n",
    "     \"canada\" : \"CA\",\n",
    "     \"china\" : \"CH\",\n",
    "     \"united states\": \"Us\"}"
   ]
  },
  {
   "cell_type": "code",
   "execution_count": 44,
   "id": "82853dc0",
   "metadata": {},
   "outputs": [
    {
     "name": "stdout",
     "output_type": "stream",
     "text": [
      "['india', 'china']\n",
      "['canada', 'united states']\n"
     ]
    }
   ],
   "source": [
    "#task is to make to seperate list 1 whick take care of key element whose length is less than = 5 rest in list2.\n",
    "l1 = []\n",
    "l2 = []\n",
    "for i in d.keys():\n",
    "    if(len(i) <= 5):\n",
    "        l1.append(i)\n",
    "    else:\n",
    "        l2.append(i)\n",
    "print(l1)\n",
    "print(l2)"
   ]
  },
  {
   "cell_type": "code",
   "execution_count": 3,
   "id": "4a68d1c1",
   "metadata": {},
   "outputs": [],
   "source": [
    "d= {\"a\" : {\"first\" : 1, \"second\" : 2}, \"b\" : {\"udit\":1999, \"ram\" :20},\n",
    "    \"c\" : [45,12,34,89,\"kabadi\"], \"d\" : (\"hello\",1112,89,34)}\n",
    "# here our task is to find the greatest integer number"
   ]
  },
  {
   "cell_type": "code",
   "execution_count": 6,
   "id": "fc9a29b2",
   "metadata": {},
   "outputs": [
    {
     "data": {
      "text/plain": [
       "1999"
      ]
     },
     "execution_count": 6,
     "metadata": {},
     "output_type": "execute_result"
    }
   ],
   "source": [
    "maxi = 0\n",
    "for i in d.values():\n",
    "    if(type(i) == list):\n",
    "        for it in i:\n",
    "            if(type(it) == int):\n",
    "                if(maxi < it):\n",
    "                    maxi = it\n",
    "    elif(type(i) == tuple):\n",
    "        for it in i:\n",
    "            if(type(it) == int):\n",
    "                if(maxi < it):\n",
    "                    maxi = it\n",
    "    else:\n",
    "        for it in i.values():\n",
    "            if(type(it) == int):\n",
    "                if(maxi < it):\n",
    "                    maxi = it\n",
    "maxi"
   ]
  },
  {
   "cell_type": "markdown",
   "id": "3f5b3b6f",
   "metadata": {},
   "source": [
    "# Function"
   ]
  },
  {
   "cell_type": "code",
   "execution_count": 9,
   "id": "20a7294c",
   "metadata": {},
   "outputs": [
    {
     "name": "stdout",
     "output_type": "stream",
     "text": [
      "Hello, How are you ? I am fine\n"
     ]
    }
   ],
   "source": [
    "# always start your function with def\n",
    "def display():\n",
    "    print(\"Hello, How are you ? I am fine\")\n",
    "\n",
    "display()"
   ]
  },
  {
   "cell_type": "code",
   "execution_count": 14,
   "id": "56362a02",
   "metadata": {},
   "outputs": [
    {
     "name": "stdout",
     "output_type": "stream",
     "text": [
      "My name is udit\n"
     ]
    },
    {
     "ename": "TypeError",
     "evalue": "can only concatenate str (not \"NoneType\") to str",
     "output_type": "error",
     "traceback": [
      "\u001b[1;31m---------------------------------------------------------------------------\u001b[0m",
      "\u001b[1;31mTypeError\u001b[0m                                 Traceback (most recent call last)",
      "\u001b[1;32mC:\\Users\\ADITYA~1\\AppData\\Local\\Temp/ipykernel_29656/3970443512.py\u001b[0m in \u001b[0;36m<module>\u001b[1;34m\u001b[0m\n\u001b[0;32m      3\u001b[0m \u001b[1;33m\u001b[0m\u001b[0m\n\u001b[0;32m      4\u001b[0m \u001b[0ma\u001b[0m \u001b[1;33m=\u001b[0m \u001b[1;34m\"purohit\"\u001b[0m\u001b[1;33m;\u001b[0m\u001b[1;33m\u001b[0m\u001b[1;33m\u001b[0m\u001b[0m\n\u001b[1;32m----> 5\u001b[1;33m \u001b[0ma\u001b[0m \u001b[1;33m+\u001b[0m \u001b[0mdisplay\u001b[0m\u001b[1;33m(\u001b[0m\u001b[1;33m)\u001b[0m\u001b[1;33m\u001b[0m\u001b[1;33m\u001b[0m\u001b[0m\n\u001b[0m\u001b[0;32m      6\u001b[0m \u001b[1;31m# why concatination is not happening. ?\u001b[0m\u001b[1;33m\u001b[0m\u001b[1;33m\u001b[0m\u001b[0m\n",
      "\u001b[1;31mTypeError\u001b[0m: can only concatenate str (not \"NoneType\") to str"
     ]
    }
   ],
   "source": [
    "def display():\n",
    "    print(\"My name is udit\")\n",
    "\n",
    "a = \"purohit\";\n",
    "a + display()\n",
    "# why concatination is not happening. ? "
   ]
  },
  {
   "cell_type": "code",
   "execution_count": 15,
   "id": "e3030327",
   "metadata": {},
   "outputs": [
    {
     "name": "stdout",
     "output_type": "stream",
     "text": [
      "My name is udit\n"
     ]
    },
    {
     "data": {
      "text/plain": [
       "'purohitNone'"
      ]
     },
     "execution_count": 15,
     "metadata": {},
     "output_type": "execute_result"
    }
   ],
   "source": [
    "# by default function type is None type. and print function give none type\n",
    "a + str(display())"
   ]
  },
  {
   "cell_type": "code",
   "execution_count": 18,
   "id": "771b4aed",
   "metadata": {},
   "outputs": [
    {
     "name": "stdout",
     "output_type": "stream",
     "text": [
      "Hello, My name is udit\n",
      "<class 'str'>\n"
     ]
    }
   ],
   "source": [
    "#correct method is -----> we need to return string from the fuction.\n",
    "def display():\n",
    "    return \"My name is udit\"\n",
    "\n",
    "a = \"Hello, \"\n",
    "print(a + display())\n",
    "print(type(display()))"
   ]
  },
  {
   "cell_type": "code",
   "execution_count": 23,
   "id": "d84bfc34",
   "metadata": {},
   "outputs": [
    {
     "name": "stdout",
     "output_type": "stream",
     "text": [
      "(2, 'udit', [1, 2, 3, 45])\n",
      "<class 'tuple'>\n"
     ]
    }
   ],
   "source": [
    "def display():\n",
    "    return 2, \"udit\",[1,2,3,45]  # this is the typle why?\n",
    "\n",
    "#by default it will give tuple type to these type of mixture of data type in return statement.\n",
    "\n",
    "print(display())\n",
    "print(type(display()))\n"
   ]
  },
  {
   "cell_type": "code",
   "execution_count": 25,
   "id": "63d0b32b",
   "metadata": {},
   "outputs": [
    {
     "name": "stdout",
     "output_type": "stream",
     "text": [
      "(2, 'udit', [1, 2, 3, 45])\n"
     ]
    }
   ],
   "source": [
    "b = display()\n",
    "print(b)"
   ]
  },
  {
   "cell_type": "code",
   "execution_count": 26,
   "id": "7c2f59fe",
   "metadata": {},
   "outputs": [
    {
     "name": "stdout",
     "output_type": "stream",
     "text": [
      "[2, 'udit', [1, 2, 3, 45]]\n"
     ]
    }
   ],
   "source": [
    "#we can change now the type of typle to whatever we want like list-->\n",
    "l = list(b)\n",
    "print(l)"
   ]
  },
  {
   "cell_type": "code",
   "execution_count": 28,
   "id": "822c3fe3",
   "metadata": {},
   "outputs": [
    {
     "name": "stdout",
     "output_type": "stream",
     "text": [
      "udit 2 purohit 7.2\n"
     ]
    }
   ],
   "source": [
    "a,b,c,d = \"udit\",2,\"purohit\",7.2\n",
    "print(a,b,c,d)"
   ]
  },
  {
   "cell_type": "code",
   "execution_count": 35,
   "id": "f3cde6bd",
   "metadata": {},
   "outputs": [
    {
     "name": "stdout",
     "output_type": "stream",
     "text": [
      "2 <class 'int'>\n",
      "udit <class 'int'>\n",
      "[1, 2, 3, 45] <class 'list'>\n"
     ]
    }
   ],
   "source": [
    "a,b,c = display() \n",
    "print(a,type(a))\n",
    "print(b,type(a))\n",
    "print(c,type(c))"
   ]
  },
  {
   "cell_type": "code",
   "execution_count": 39,
   "id": "b41c876d",
   "metadata": {},
   "outputs": [
    {
     "data": {
      "text/plain": [
       "[1, 2, 3, 4, 5]"
      ]
     },
     "execution_count": 39,
     "metadata": {},
     "output_type": "execute_result"
    }
   ],
   "source": [
    "def display(l):\n",
    "    #how to make a doc string it's simple just add whatever string you want in \"\"\" \"\"\" these\n",
    "    \"\"\"this function only return the integer value\"\"\"\n",
    "    l1 = []\n",
    "    for i in l:\n",
    "        if(type(i) == int):\n",
    "            l1.append(i)\n",
    "    return l1\n",
    "    \n",
    "l = [1,2,3,4,5,\"udit\",[2324,34,35,45]]\n",
    "l1 = display(l)\n",
    "l1"
   ]
  },
  {
   "cell_type": "code",
   "execution_count": 40,
   "id": "448a4673",
   "metadata": {},
   "outputs": [
    {
     "name": "stdout",
     "output_type": "stream",
     "text": [
      "Help on function display in module __main__:\n",
      "\n",
      "display(l)\n",
      "    this function only return the integer value\n",
      "\n"
     ]
    }
   ],
   "source": [
    "help(display) #to show the doc string."
   ]
  },
  {
   "cell_type": "code",
   "execution_count": 4,
   "id": "b1a4ef22",
   "metadata": {},
   "outputs": [
    {
     "name": "stdout",
     "output_type": "stream",
     "text": [
      "(10, 'udit')\n"
     ]
    }
   ],
   "source": [
    "#args --> any number of argument you suppose to pass\n",
    "def display(*args):\n",
    "    return args\n",
    "\n",
    "a,b= 10,\"udit\"\n",
    "print(display(a,b))\n",
    "# we can pass as many argument as we want.\n",
    "# We can give our name also in place of args"
   ]
  },
  {
   "cell_type": "code",
   "execution_count": 5,
   "id": "3e26ae54",
   "metadata": {},
   "outputs": [
    {
     "name": "stdout",
     "output_type": "stream",
     "text": [
      "(10, 'udit')\n"
     ]
    }
   ],
   "source": [
    "def display(*udit):\n",
    "    return udit\n",
    "\n",
    "a,b= 10,\"udit\"\n",
    "print(display(a,b))"
   ]
  },
  {
   "cell_type": "code",
   "execution_count": 6,
   "id": "f0afe33d",
   "metadata": {},
   "outputs": [
    {
     "data": {
      "text/plain": [
       "((1, 2, 3, 4, 5), 'udit', [12, 2323])"
      ]
     },
     "execution_count": 6,
     "metadata": {},
     "output_type": "execute_result"
    }
   ],
   "source": [
    "def display(*args, a, b):\n",
    "    return args, a, b\n",
    "\n",
    "display(1,2,3,4,5, a = \"udit\",b = [12,2323])\n",
    "# we must define the argument of a and b otherwise it will consider all element in args and give error "
   ]
  },
  {
   "cell_type": "code",
   "execution_count": 8,
   "id": "4e14323d",
   "metadata": {},
   "outputs": [
    {
     "ename": "SyntaxError",
     "evalue": "positional argument follows keyword argument (Temp/ipykernel_19260/2436208375.py, line 4)",
     "output_type": "error",
     "traceback": [
      "\u001b[1;36m  File \u001b[1;32m\"C:\\Users\\ADITYA~1\\AppData\\Local\\Temp/ipykernel_19260/2436208375.py\"\u001b[1;36m, line \u001b[1;32m4\u001b[0m\n\u001b[1;33m    display(a = \"udit\",1,2,3,4)\u001b[0m\n\u001b[1;37m                              ^\u001b[0m\n\u001b[1;31mSyntaxError\u001b[0m\u001b[1;31m:\u001b[0m positional argument follows keyword argument\n"
     ]
    }
   ],
   "source": [
    "def display(a,*args):\n",
    "    return a,args\n",
    "\n",
    "display(a = \"udit\",1,2,3,4)"
   ]
  },
  {
   "cell_type": "code",
   "execution_count": 10,
   "id": "f728942c",
   "metadata": {},
   "outputs": [
    {
     "data": {
      "text/plain": [
       "('udit', (1, 2, 3, 4))"
      ]
     },
     "execution_count": 10,
     "metadata": {},
     "output_type": "execute_result"
    }
   ],
   "source": [
    "def display(a,*args):\n",
    "    return a,args\n",
    "\n",
    "display(\"udit\",1,2,3,4)"
   ]
  },
  {
   "cell_type": "code",
   "execution_count": 14,
   "id": "e45f8300",
   "metadata": {},
   "outputs": [
    {
     "name": "stdout",
     "output_type": "stream",
     "text": [
      "{'a': 34, 'b': [34, 565, 34, 2]}\n",
      "<class 'dict'>\n"
     ]
    }
   ],
   "source": [
    "#we pass values as key and pair.\n",
    "def display(**kwargs):\n",
    "    return kwargs\n",
    "\n",
    "print(display(a = 34, b = [34,565,34,2]))\n",
    "print(type(display()))"
   ]
  },
  {
   "cell_type": "code",
   "execution_count": null,
   "id": "d19f0b15",
   "metadata": {},
   "outputs": [],
   "source": [
    "def display(**kwargs):\n",
    "    return kwargs\n",
    "\n",
    "display(34, [34,565,34,2]) #this give error we must give key value pair otherwise it will not work."
   ]
  },
  {
   "cell_type": "markdown",
   "id": "ae2e09b8",
   "metadata": {},
   "source": [
    "# lambda function-----> One linear function"
   ]
  },
  {
   "cell_type": "code",
   "execution_count": 19,
   "id": "267a7c52",
   "metadata": {},
   "outputs": [
    {
     "data": {
      "text/plain": [
       "<function __main__.<lambda>(a, b)>"
      ]
     },
     "execution_count": 19,
     "metadata": {},
     "output_type": "execute_result"
    }
   ],
   "source": [
    "# lambda function is function without name.\n",
    "lambda a,b : a*b\n",
    "# how i am able to pass the data ? This is the thing to think.\n",
    "# It's simple we need to assign the lambda function to some kind of varibles."
   ]
  },
  {
   "cell_type": "code",
   "execution_count": 21,
   "id": "030382bc",
   "metadata": {},
   "outputs": [
    {
     "data": {
      "text/plain": [
       "100"
      ]
     },
     "execution_count": 21,
     "metadata": {},
     "output_type": "execute_result"
    }
   ],
   "source": [
    "a = lambda a,b : a*b\n",
    "# to call the lambda function we need to do thing which we done below\n",
    "a(10,10)"
   ]
  },
  {
   "cell_type": "code",
   "execution_count": 24,
   "id": "29eba106",
   "metadata": {},
   "outputs": [
    {
     "data": {
      "text/plain": [
       "(100, 20)"
      ]
     },
     "execution_count": 24,
     "metadata": {},
     "output_type": "execute_result"
    }
   ],
   "source": [
    "a = lambda a,b : (a*b,a+b)\n",
    "a(10,10)"
   ]
  },
  {
   "cell_type": "code",
   "execution_count": 27,
   "id": "6154183c",
   "metadata": {},
   "outputs": [
    {
     "data": {
      "text/plain": [
       "(12, 3, 2, 2, 12, 3, 4)"
      ]
     },
     "execution_count": 27,
     "metadata": {},
     "output_type": "execute_result"
    }
   ],
   "source": [
    "a = lambda *args : args\n",
    "a(12,3,2,2,12,3,4)"
   ]
  },
  {
   "cell_type": "code",
   "execution_count": 29,
   "id": "614ffa95",
   "metadata": {},
   "outputs": [
    {
     "ename": "TypeError",
     "evalue": "can't multiply sequence by non-int of type 'tuple'",
     "output_type": "error",
     "traceback": [
      "\u001b[1;31m---------------------------------------------------------------------------\u001b[0m",
      "\u001b[1;31mTypeError\u001b[0m                                 Traceback (most recent call last)",
      "\u001b[1;32mC:\\Users\\ADITYA~1\\AppData\\Local\\Temp/ipykernel_19260/2682187992.py\u001b[0m in \u001b[0;36m<module>\u001b[1;34m\u001b[0m\n\u001b[0;32m      1\u001b[0m \u001b[0ma\u001b[0m \u001b[1;33m=\u001b[0m \u001b[1;32mlambda\u001b[0m \u001b[1;33m*\u001b[0m\u001b[0margs\u001b[0m \u001b[1;33m:\u001b[0m \u001b[0margs\u001b[0m \u001b[1;33m*\u001b[0m \u001b[0margs\u001b[0m\u001b[1;33m\u001b[0m\u001b[1;33m\u001b[0m\u001b[0m\n\u001b[1;32m----> 2\u001b[1;33m \u001b[0ma\u001b[0m\u001b[1;33m(\u001b[0m\u001b[1;36m10\u001b[0m\u001b[1;33m,\u001b[0m\u001b[1;36m23\u001b[0m\u001b[1;33m)\u001b[0m\u001b[1;33m\u001b[0m\u001b[1;33m\u001b[0m\u001b[0m\n\u001b[0m",
      "\u001b[1;32mC:\\Users\\ADITYA~1\\AppData\\Local\\Temp/ipykernel_19260/2682187992.py\u001b[0m in \u001b[0;36m<lambda>\u001b[1;34m(*args)\u001b[0m\n\u001b[1;32m----> 1\u001b[1;33m \u001b[0ma\u001b[0m \u001b[1;33m=\u001b[0m \u001b[1;32mlambda\u001b[0m \u001b[1;33m*\u001b[0m\u001b[0margs\u001b[0m \u001b[1;33m:\u001b[0m \u001b[0margs\u001b[0m \u001b[1;33m*\u001b[0m \u001b[0margs\u001b[0m\u001b[1;33m\u001b[0m\u001b[1;33m\u001b[0m\u001b[0m\n\u001b[0m\u001b[0;32m      2\u001b[0m \u001b[0ma\u001b[0m\u001b[1;33m(\u001b[0m\u001b[1;36m10\u001b[0m\u001b[1;33m,\u001b[0m\u001b[1;36m23\u001b[0m\u001b[1;33m)\u001b[0m\u001b[1;33m\u001b[0m\u001b[1;33m\u001b[0m\u001b[0m\n",
      "\u001b[1;31mTypeError\u001b[0m: can't multiply sequence by non-int of type 'tuple'"
     ]
    }
   ],
   "source": [
    "a = lambda *args : args * args\n",
    "a(10,23)\n",
    "# this will not work because *args take multiple values and we know function take multiple value and return it in form tuple\n",
    "# so we cannot change the values of tuple so error generated."
   ]
  },
  {
   "cell_type": "code",
   "execution_count": 31,
   "id": "193f6607",
   "metadata": {},
   "outputs": [],
   "source": [
    "# always go with normal function don't use lambda function"
   ]
  },
  {
   "cell_type": "markdown",
   "id": "f2f7cebb",
   "metadata": {},
   "source": [
    "# List Comprehension"
   ]
  },
  {
   "cell_type": "code",
   "execution_count": 32,
   "id": "c2a66b3c",
   "metadata": {},
   "outputs": [
    {
     "data": {
      "text/plain": [
       "[4, 5, 6, 7, 8, 9, 6]"
      ]
     },
     "execution_count": 32,
     "metadata": {},
     "output_type": "execute_result"
    }
   ],
   "source": [
    "#make a code which add 2 to list and update the new ans\n",
    "l = [2,3,4,5,6,7,4]\n",
    "l1 = []\n",
    "for i in l:\n",
    "    l1.append(i+2)\n",
    "l1"
   ]
  },
  {
   "cell_type": "code",
   "execution_count": 36,
   "id": "85c503e6",
   "metadata": {},
   "outputs": [
    {
     "data": {
      "text/plain": [
       "[4, 5, 6, 7, 8, 9, 6]"
      ]
     },
     "execution_count": 36,
     "metadata": {},
     "output_type": "execute_result"
    }
   ],
   "source": [
    "# Now convert the above code and make sure to use function\n",
    "def display(l):\n",
    "    l1 =[]\n",
    "    for i in l:\n",
    "        l1.append(i+2)\n",
    "    return l1\n",
    "\n",
    "l = [2,3,4,5,6,7,4]\n",
    "l1 = display(l)\n",
    "l1"
   ]
  },
  {
   "cell_type": "code",
   "execution_count": 38,
   "id": "9e844177",
   "metadata": {},
   "outputs": [
    {
     "data": {
      "text/plain": [
       "[4, 5, 6, 7, 8, 9, 6]"
      ]
     },
     "execution_count": 38,
     "metadata": {},
     "output_type": "execute_result"
    }
   ],
   "source": [
    "# now write it down with the help of lambda function.\n",
    "a = lambda a : [i+2 for i in a]\n",
    "# i+2 we have supposed to return. \n",
    "a(l)"
   ]
  },
  {
   "cell_type": "code",
   "execution_count": 41,
   "id": "a62e3aae",
   "metadata": {},
   "outputs": [
    {
     "name": "stdout",
     "output_type": "stream",
     "text": [
      "2 3 4 5 6 7 4 "
     ]
    },
    {
     "data": {
      "text/plain": [
       "[None, None, None, None, None, None, None]"
      ]
     },
     "execution_count": 41,
     "metadata": {},
     "output_type": "execute_result"
    }
   ],
   "source": [
    "# list comprehension--->> return part always on left hand side\n",
    "[print(i,end=\" \") for i in l]"
   ]
  },
  {
   "cell_type": "code",
   "execution_count": 42,
   "id": "cda46951",
   "metadata": {},
   "outputs": [
    {
     "data": {
      "text/plain": [
       "[4, 5, 6, 7, 8, 9, 6]"
      ]
     },
     "execution_count": 42,
     "metadata": {},
     "output_type": "execute_result"
    }
   ],
   "source": [
    "[i+2 for i in l]"
   ]
  },
  {
   "cell_type": "code",
   "execution_count": 43,
   "id": "621aea29",
   "metadata": {},
   "outputs": [
    {
     "data": {
      "text/plain": [
       "[(4, 4), (5, 9), (6, 16), (7, 25), (8, 36), (9, 49), (6, 16)]"
      ]
     },
     "execution_count": 43,
     "metadata": {},
     "output_type": "execute_result"
    }
   ],
   "source": [
    "[(i+2,i*i) for i in l]"
   ]
  },
  {
   "cell_type": "code",
   "execution_count": 48,
   "id": "ebe2bc97",
   "metadata": {},
   "outputs": [
    {
     "data": {
      "text/plain": [
       "[4, 5, 6, 6]"
      ]
     },
     "execution_count": 48,
     "metadata": {},
     "output_type": "execute_result"
    }
   ],
   "source": [
    "[i+2 for i in l if i <=4]"
   ]
  },
  {
   "cell_type": "code",
   "execution_count": 51,
   "id": "6f0df81e",
   "metadata": {},
   "outputs": [
    {
     "data": {
      "text/plain": [
       "[(4, 4), (5, 9), (6, 16), (6, 16)]"
      ]
     },
     "execution_count": 51,
     "metadata": {},
     "output_type": "execute_result"
    }
   ],
   "source": [
    "# we also do the above code in normal form like\n",
    "l1 = [] \n",
    "for i in l:\n",
    "    if(i <= 4):\n",
    "        l1.append((i+2,i*i))\n",
    "\n",
    "l1"
   ]
  },
  {
   "cell_type": "code",
   "execution_count": 56,
   "id": "cc9faab9",
   "metadata": {},
   "outputs": [
    {
     "data": {
      "text/plain": [
       "[4, 4]"
      ]
     },
     "execution_count": 56,
     "metadata": {},
     "output_type": "execute_result"
    }
   ],
   "source": [
    "# also we can do in form of normal function\n",
    "def function(l):\n",
    "    for i in l:\n",
    "        return [i+2,i*i]\n",
    "    \n",
    "function(l)"
   ]
  },
  {
   "cell_type": "code",
   "execution_count": 57,
   "id": "ad73bb46",
   "metadata": {},
   "outputs": [
    {
     "data": {
      "text/plain": [
       "{0: 0, 1: 1, 2: 4, 3: 9, 4: 16, 5: 25, 6: 36, 7: 49, 8: 64, 9: 81}"
      ]
     },
     "execution_count": 57,
     "metadata": {},
     "output_type": "execute_result"
    }
   ],
   "source": [
    "d = {1 : 1, 2 : 4, 3 : 9}\n",
    "{i:i*i for i in range(10)}"
   ]
  },
  {
   "cell_type": "markdown",
   "id": "69993831",
   "metadata": {},
   "source": [
    "# iterable,generator, iterator"
   ]
  },
  {
   "cell_type": "code",
   "execution_count": 58,
   "id": "442cad1c",
   "metadata": {},
   "outputs": [
    {
     "ename": "TypeError",
     "evalue": "'int' object is not iterable",
     "output_type": "error",
     "traceback": [
      "\u001b[1;31m---------------------------------------------------------------------------\u001b[0m",
      "\u001b[1;31mTypeError\u001b[0m                                 Traceback (most recent call last)",
      "\u001b[1;32mC:\\Users\\ADITYA~1\\AppData\\Local\\Temp/ipykernel_19260/1805748935.py\u001b[0m in \u001b[0;36m<module>\u001b[1;34m\u001b[0m\n\u001b[0;32m      1\u001b[0m \u001b[0ma\u001b[0m \u001b[1;33m=\u001b[0m \u001b[1;36m10\u001b[0m\u001b[1;33m\u001b[0m\u001b[1;33m\u001b[0m\u001b[0m\n\u001b[1;32m----> 2\u001b[1;33m \u001b[1;32mfor\u001b[0m \u001b[0mi\u001b[0m \u001b[1;32min\u001b[0m \u001b[0ma\u001b[0m\u001b[1;33m:\u001b[0m\u001b[1;33m\u001b[0m\u001b[1;33m\u001b[0m\u001b[0m\n\u001b[0m\u001b[0;32m      3\u001b[0m     \u001b[0mprint\u001b[0m\u001b[1;33m(\u001b[0m\u001b[0mi\u001b[0m\u001b[1;33m)\u001b[0m\u001b[1;33m\u001b[0m\u001b[1;33m\u001b[0m\u001b[0m\n",
      "\u001b[1;31mTypeError\u001b[0m: 'int' object is not iterable"
     ]
    }
   ],
   "source": [
    "a = 10\n",
    "for i in a:\n",
    "    print(i)"
   ]
  },
  {
   "cell_type": "code",
   "execution_count": 61,
   "id": "4dd3919a",
   "metadata": {},
   "outputs": [
    {
     "name": "stdout",
     "output_type": "stream",
     "text": [
      "print"
     ]
    }
   ],
   "source": [
    "s = \"print\"\n",
    "for i in s:\n",
    "    print(i,end = \"\")\n",
    "\n",
    "# string is the iterable object whereas int is not the iterable object as we seen above."
   ]
  },
  {
   "cell_type": "code",
   "execution_count": 62,
   "id": "650e3b08",
   "metadata": {},
   "outputs": [
    {
     "ename": "TypeError",
     "evalue": "'str' object is not an iterator",
     "output_type": "error",
     "traceback": [
      "\u001b[1;31m---------------------------------------------------------------------------\u001b[0m",
      "\u001b[1;31mTypeError\u001b[0m                                 Traceback (most recent call last)",
      "\u001b[1;32mC:\\Users\\ADITYA~1\\AppData\\Local\\Temp/ipykernel_19260/1977886155.py\u001b[0m in \u001b[0;36m<module>\u001b[1;34m\u001b[0m\n\u001b[1;32m----> 1\u001b[1;33m \u001b[0mnext\u001b[0m\u001b[1;33m(\u001b[0m\u001b[0ms\u001b[0m\u001b[1;33m)\u001b[0m\u001b[1;33m\u001b[0m\u001b[1;33m\u001b[0m\u001b[0m\n\u001b[0m",
      "\u001b[1;31mTypeError\u001b[0m: 'str' object is not an iterator"
     ]
    }
   ],
   "source": [
    "next(s) # which will extract one one element at a time if an object is iterator. where as for loop can do"
   ]
  },
  {
   "cell_type": "code",
   "execution_count": 64,
   "id": "308186a8",
   "metadata": {},
   "outputs": [
    {
     "data": {
      "text/plain": [
       "'s'"
      ]
     },
     "execution_count": 64,
     "metadata": {},
     "output_type": "execute_result"
    }
   ],
   "source": [
    "# So what is the difference between iterable or iterator.\n",
    "#if an object is holding a value with the help of some sort of the indexes and if you are able to access it one by one with\n",
    "#the help of the indexes that kind of object is called iterable object.\n",
    "\n",
    "#NOW UNDERSTAND how for loop work.\n",
    "\n",
    "#iter function will able to convert your iterable object into iterator\n",
    "s = \"string\"\n",
    "i = iter(s)\n",
    "next(i)"
   ]
  },
  {
   "cell_type": "code",
   "execution_count": 2,
   "id": "150cf76d",
   "metadata": {},
   "outputs": [
    {
     "data": {
      "text/plain": [
       "1"
      ]
     },
     "execution_count": 2,
     "metadata": {},
     "output_type": "execute_result"
    }
   ],
   "source": [
    "#internally for loop will try to convert it into iterator by using of iter function.\n",
    "l = [1,2,3,4,5]\n",
    "# here list is the iterable object not a iterator so we need to convert this\n",
    "a = iter(l)\n",
    "next(a)"
   ]
  },
  {
   "cell_type": "code",
   "execution_count": 3,
   "id": "3b14dc3d",
   "metadata": {},
   "outputs": [
    {
     "data": {
      "text/plain": [
       "2"
      ]
     },
     "execution_count": 3,
     "metadata": {},
     "output_type": "execute_result"
    }
   ],
   "source": [
    "next(a)"
   ]
  },
  {
   "cell_type": "code",
   "execution_count": 4,
   "id": "ad14283f",
   "metadata": {},
   "outputs": [
    {
     "data": {
      "text/plain": [
       "3"
      ]
     },
     "execution_count": 4,
     "metadata": {},
     "output_type": "execute_result"
    }
   ],
   "source": [
    "next(a)"
   ]
  },
  {
   "cell_type": "code",
   "execution_count": 5,
   "id": "1f4ff053",
   "metadata": {},
   "outputs": [
    {
     "data": {
      "text/plain": [
       "4"
      ]
     },
     "execution_count": 5,
     "metadata": {},
     "output_type": "execute_result"
    }
   ],
   "source": [
    "next(a)"
   ]
  },
  {
   "cell_type": "code",
   "execution_count": 6,
   "id": "be5ffd10",
   "metadata": {},
   "outputs": [
    {
     "data": {
      "text/plain": [
       "5"
      ]
     },
     "execution_count": 6,
     "metadata": {},
     "output_type": "execute_result"
    }
   ],
   "source": [
    "next(a)"
   ]
  },
  {
   "cell_type": "code",
   "execution_count": 7,
   "id": "1eed8447",
   "metadata": {},
   "outputs": [
    {
     "ename": "StopIteration",
     "evalue": "",
     "output_type": "error",
     "traceback": [
      "\u001b[1;31m---------------------------------------------------------------------------\u001b[0m",
      "\u001b[1;31mStopIteration\u001b[0m                             Traceback (most recent call last)",
      "\u001b[1;32mC:\\Users\\ADITYA~1\\AppData\\Local\\Temp/ipykernel_19576/1242322984.py\u001b[0m in \u001b[0;36m<module>\u001b[1;34m\u001b[0m\n\u001b[1;32m----> 1\u001b[1;33m \u001b[0mnext\u001b[0m\u001b[1;33m(\u001b[0m\u001b[0ma\u001b[0m\u001b[1;33m)\u001b[0m\u001b[1;33m\u001b[0m\u001b[1;33m\u001b[0m\u001b[0m\n\u001b[0m",
      "\u001b[1;31mStopIteration\u001b[0m: "
     ]
    }
   ],
   "source": [
    "next(a)"
   ]
  },
  {
   "cell_type": "code",
   "execution_count": 10,
   "id": "c8c1ed22",
   "metadata": {},
   "outputs": [
    {
     "data": {
      "text/plain": [
       "[0, 1, 8, 27, 64, 125, 216, 343, 512, 729, 1000]"
      ]
     },
     "execution_count": 10,
     "metadata": {},
     "output_type": "execute_result"
    }
   ],
   "source": [
    "def getcube(n):\n",
    "    l= []\n",
    "    for i in range(n):\n",
    "        l.append(i**3)\n",
    "    return l\n",
    "\n",
    "getcube(11)\n",
    "# Now convert this function as range like function."
   ]
  },
  {
   "cell_type": "code",
   "execution_count": 12,
   "id": "3a450937",
   "metadata": {},
   "outputs": [
    {
     "data": {
      "text/plain": [
       "<generator object getcube at 0x000001D7890DF9E0>"
      ]
     },
     "execution_count": 12,
     "metadata": {},
     "output_type": "execute_result"
    }
   ],
   "source": [
    "# what is yield ? \n",
    "# it help us out to convert the function into generator.\n",
    "def getcube(n):\n",
    "    for i in range(n):\n",
    "        yield i**3;\n",
    "        \n",
    "getcube(10)"
   ]
  },
  {
   "cell_type": "code",
   "execution_count": 15,
   "id": "9a979e3d",
   "metadata": {},
   "outputs": [
    {
     "name": "stdout",
     "output_type": "stream",
     "text": [
      "0 1 8 27 64 125 216 343 512 729 "
     ]
    }
   ],
   "source": [
    "for i in getcube(10):\n",
    "    print(i,end = \" \")"
   ]
  },
  {
   "cell_type": "code",
   "execution_count": 16,
   "id": "4cbd1523",
   "metadata": {},
   "outputs": [],
   "source": [
    "# so we can make the range like function with the help of yield\n",
    "# Generator function allow you to declare the function that behave like a iterator."
   ]
  },
  {
   "cell_type": "code",
   "execution_count": 17,
   "id": "4b521b85",
   "metadata": {},
   "outputs": [],
   "source": [
    "#fibonacci series.....\n",
    "def fibo(n):\n",
    "    a = 1\n",
    "    b = 1\n",
    "    for i in range(n):\n",
    "        yield a,i\n",
    "        a,b = b, a+b"
   ]
  },
  {
   "cell_type": "code",
   "execution_count": 19,
   "id": "500edd83",
   "metadata": {},
   "outputs": [
    {
     "name": "stdout",
     "output_type": "stream",
     "text": [
      "(1, 0)\n",
      "(1, 1)\n",
      "(2, 2)\n",
      "(3, 3)\n",
      "(5, 4)\n",
      "(8, 5)\n",
      "(13, 6)\n",
      "(21, 7)\n",
      "(34, 8)\n",
      "(55, 9)\n"
     ]
    }
   ],
   "source": [
    "for i in fibo(10):\n",
    "    print(i)"
   ]
  },
  {
   "cell_type": "markdown",
   "id": "a44a1ed2",
   "metadata": {},
   "source": [
    "# File System "
   ]
  },
  {
   "cell_type": "code",
   "execution_count": 12,
   "id": "c6bfc9e9",
   "metadata": {},
   "outputs": [],
   "source": [
    "# Deal with the txt file.\n",
    "f = open(\"test.txt\",\"w\")"
   ]
  },
  {
   "cell_type": "code",
   "execution_count": 18,
   "id": "ad0b28ca",
   "metadata": {},
   "outputs": [
    {
     "data": {
      "text/plain": [
       "'C:\\\\Users\\\\Aditya N Purohit'"
      ]
     },
     "execution_count": 18,
     "metadata": {},
     "output_type": "execute_result"
    }
   ],
   "source": [
    "pwd() #it will give my present directries"
   ]
  },
  {
   "cell_type": "code",
   "execution_count": 19,
   "id": "bf603aea",
   "metadata": {},
   "outputs": [
    {
     "name": "stdout",
     "output_type": "stream",
     "text": [
      " Volume in drive C is OS\n",
      " Volume Serial Number is 9E64-D8CE\n",
      "\n",
      " Directory of C:\\Users\\Aditya N Purohit\n",
      "\n",
      "\n",
      " Directory of C:\\Users\\Aditya N Purohit\n",
      "\n",
      "\n",
      " Directory of C:\\Users\\Aditya N Purohit\n",
      "\n",
      "\n",
      " Directory of C:\\Users\\Aditya N Purohit\n",
      "\n",
      "\n",
      " Directory of C:\\Users\\Aditya N Purohit\n",
      "\n",
      "\n",
      " Directory of C:\\Users\\Aditya N Purohit\n",
      "\n",
      "\n",
      " Directory of C:\\Users\\Aditya N Purohit\n",
      "\n",
      "\n",
      " Directory of C:\\Users\\Aditya N Purohit\n",
      "\n",
      "\n",
      " Directory of C:\\Users\\Aditya N Purohit\n",
      "\n",
      "\n",
      " Directory of C:\\Users\\Aditya N Purohit\n",
      "\n",
      "\n",
      " Directory of C:\\Users\\Aditya N Purohit\n",
      "\n",
      "\n",
      " Directory of C:\\Users\\Aditya N Purohit\n",
      "\n",
      "\n",
      " Directory of C:\\Users\\Aditya N Purohit\n",
      "\n",
      "\n",
      " Directory of C:\\Users\\Aditya N Purohit\n",
      "\n"
     ]
    },
    {
     "name": "stderr",
     "output_type": "stream",
     "text": [
      "File Not Found\n"
     ]
    }
   ],
   "source": [
    "%ls # list down all the files which is available inside the present working directries"
   ]
  },
  {
   "cell_type": "code",
   "execution_count": 33,
   "id": "9f8c4b5e",
   "metadata": {},
   "outputs": [],
   "source": [
    "f = open(\"test2.txt\",\"w\")"
   ]
  },
  {
   "cell_type": "code",
   "execution_count": 34,
   "id": "5ae18191",
   "metadata": {},
   "outputs": [],
   "source": [
    "f.write(\"This is my first file operation.\")\n",
    "# we aree not gonna see anything so firstly close that file.\n",
    "f.close()"
   ]
  },
  {
   "cell_type": "code",
   "execution_count": 36,
   "id": "21b9d339",
   "metadata": {},
   "outputs": [],
   "source": [
    "f = open('test2.txt') #bydefault it is in read file so need to give 'r'."
   ]
  },
  {
   "cell_type": "code",
   "execution_count": 37,
   "id": "df33946b",
   "metadata": {},
   "outputs": [
    {
     "data": {
      "text/plain": [
       "'This is my first file operation.'"
      ]
     },
     "execution_count": 37,
     "metadata": {},
     "output_type": "execute_result"
    }
   ],
   "source": [
    "f.read() "
   ]
  },
  {
   "cell_type": "code",
   "execution_count": 38,
   "id": "32ded489",
   "metadata": {},
   "outputs": [
    {
     "data": {
      "text/plain": [
       "''"
      ]
     },
     "execution_count": 38,
     "metadata": {},
     "output_type": "execute_result"
    }
   ],
   "source": [
    " f.read() #it will because we already read whole data and our cursor is in the end of file that we are reading.that's why\n",
    "    #it will give blank ans."
   ]
  },
  {
   "cell_type": "code",
   "execution_count": 45,
   "id": "970a8b79",
   "metadata": {},
   "outputs": [
    {
     "data": {
      "text/plain": [
       "'This is my first file operation.'"
      ]
     },
     "execution_count": 45,
     "metadata": {},
     "output_type": "execute_result"
    }
   ],
   "source": [
    "# we can reallocate the cursor. #reset the cursor\n",
    "f.seek(0) # we can reset the cursor at 1st position\n",
    "f.read()"
   ]
  },
  {
   "cell_type": "code",
   "execution_count": 46,
   "id": "1c1ad5a9",
   "metadata": {},
   "outputs": [
    {
     "data": {
      "text/plain": [
       "32"
      ]
     },
     "execution_count": 46,
     "metadata": {},
     "output_type": "execute_result"
    }
   ],
   "source": [
    "#If we want to know that where is our file cursor at this time we can know with the help of tell function\n",
    "f.tell() "
   ]
  },
  {
   "cell_type": "code",
   "execution_count": 47,
   "id": "226e81cd",
   "metadata": {},
   "outputs": [
    {
     "data": {
      "text/plain": [
       "4"
      ]
     },
     "execution_count": 47,
     "metadata": {},
     "output_type": "execute_result"
    }
   ],
   "source": [
    "f.seek(4)"
   ]
  },
  {
   "cell_type": "code",
   "execution_count": 49,
   "id": "70800cf6",
   "metadata": {},
   "outputs": [
    {
     "data": {
      "text/plain": [
       "4"
      ]
     },
     "execution_count": 49,
     "metadata": {},
     "output_type": "execute_result"
    }
   ],
   "source": [
    "f.tell()"
   ]
  },
  {
   "cell_type": "code",
   "execution_count": 50,
   "id": "c3500302",
   "metadata": {},
   "outputs": [],
   "source": [
    "f.close()"
   ]
  },
  {
   "cell_type": "code",
   "execution_count": 53,
   "id": "a1652d34",
   "metadata": {},
   "outputs": [],
   "source": [
    "# r+ mode ---> Now try to open the file in r+ mode it means read + write mode.\n",
    "f = open(\"test2.txt\",\"r+\")"
   ]
  },
  {
   "cell_type": "code",
   "execution_count": 54,
   "id": "23e7c61b",
   "metadata": {},
   "outputs": [
    {
     "data": {
      "text/plain": [
       "'This is my first file operation.'"
      ]
     },
     "execution_count": 54,
     "metadata": {},
     "output_type": "execute_result"
    }
   ],
   "source": [
    "f.readline()"
   ]
  },
  {
   "cell_type": "code",
   "execution_count": 62,
   "id": "d1e3d859",
   "metadata": {},
   "outputs": [],
   "source": [
    "#so what is the difference between read and readline-->\n",
    "#read always try to read the whole data\n",
    "#readline read the data line by line.\n"
   ]
  },
  {
   "cell_type": "code",
   "execution_count": 63,
   "id": "43979a21",
   "metadata": {},
   "outputs": [],
   "source": [
    "f.close()"
   ]
  },
  {
   "cell_type": "code",
   "execution_count": 64,
   "id": "f68fe204",
   "metadata": {},
   "outputs": [
    {
     "data": {
      "text/plain": [
       "['This is my first file operation.\\n',\n",
       " 'This is my first line.\\n',\n",
       " 'This is my second line.']"
      ]
     },
     "execution_count": 64,
     "metadata": {},
     "output_type": "execute_result"
    }
   ],
   "source": [
    "f = open(\"test2.txt\",\"r+\")\n",
    "f.readlines() #this will give you all the information inside the list. and one line is one element in it."
   ]
  },
  {
   "cell_type": "code",
   "execution_count": 68,
   "id": "ae973fc8",
   "metadata": {},
   "outputs": [
    {
     "data": {
      "text/plain": [
       "['This', 'is', 'my', 'first', 'file', 'operation.']"
      ]
     },
     "execution_count": 68,
     "metadata": {},
     "output_type": "execute_result"
    }
   ],
   "source": [
    "f.seek(0)\n",
    "l = f.readlines()\n",
    "l[0].split() #split function split the sentence into words."
   ]
  },
  {
   "cell_type": "code",
   "execution_count": 69,
   "id": "194181e1",
   "metadata": {},
   "outputs": [],
   "source": [
    "#How to write down the data if it is available in list\n",
    "l = [\"THis is the first line\",\"This is the second line\",\"This is the third line\"]\n",
    "f.writelines(l) #by this we can write down the data of list."
   ]
  },
  {
   "cell_type": "code",
   "execution_count": 71,
   "id": "9abee74f",
   "metadata": {},
   "outputs": [
    {
     "data": {
      "text/plain": [
       "'This is my first file operation.\\nThis is my first line.\\nThis is my second line.THis is the first lineThis is the second lineThis is the third line'"
      ]
     },
     "execution_count": 71,
     "metadata": {},
     "output_type": "execute_result"
    }
   ],
   "source": [
    "f.seek(0)\n",
    "f.read()"
   ]
  },
  {
   "cell_type": "code",
   "execution_count": 76,
   "id": "79a7e191",
   "metadata": {},
   "outputs": [],
   "source": [
    "f.close()"
   ]
  },
  {
   "cell_type": "code",
   "execution_count": 77,
   "id": "4f7089f8",
   "metadata": {},
   "outputs": [],
   "source": [
    "#If we want to delete the file then it is not available in file system we need to import the os\n",
    "import os"
   ]
  },
  {
   "cell_type": "code",
   "execution_count": 79,
   "id": "5d138f4d",
   "metadata": {},
   "outputs": [],
   "source": [
    "os.remove(\"test.txt\") # here we del.the file successfully."
   ]
  },
  {
   "cell_type": "code",
   "execution_count": 80,
   "id": "1266be15",
   "metadata": {},
   "outputs": [
    {
     "data": {
      "text/plain": [
       "'C:\\\\Users\\\\Aditya N Purohit'"
      ]
     },
     "execution_count": 80,
     "metadata": {},
     "output_type": "execute_result"
    }
   ],
   "source": [
    "os.getcwd() #curent working directries."
   ]
  },
  {
   "cell_type": "code",
   "execution_count": 81,
   "id": "db77cd36",
   "metadata": {},
   "outputs": [
    {
     "data": {
      "text/plain": [
       "['.cache',\n",
       " '.conda',\n",
       " '.condarc',\n",
       " '.continuum',\n",
       " '.eclipse',\n",
       " '.ipynb_checkpoints',\n",
       " '.ipython',\n",
       " '.jupyter',\n",
       " '.matplotlib',\n",
       " '.ms-ad',\n",
       " '.p2',\n",
       " '.vscode',\n",
       " '10 Day training project.ipynb',\n",
       " '3D Objects',\n",
       " 'anaconda3',\n",
       " 'AppData',\n",
       " 'Application Data',\n",
       " 'Contacts',\n",
       " 'Cookies',\n",
       " 'Desktop',\n",
       " 'Documents',\n",
       " 'Downloads',\n",
       " 'eclipse',\n",
       " 'eclipse-workspace',\n",
       " 'Favorites',\n",
       " 'IntelGraphicsProfiles',\n",
       " 'Links',\n",
       " 'Local Settings',\n",
       " 'Mini Project House Price Prediction model -Copy1.ipynb',\n",
       " 'Mini Project House Price Prediction model .ipynb',\n",
       " 'mirinal sentiment analysis.ipynb',\n",
       " 'Music',\n",
       " 'My Documents',\n",
       " 'NetHood',\n",
       " 'NTUSER.DAT',\n",
       " 'ntuser.dat.LOG1',\n",
       " 'ntuser.dat.LOG2',\n",
       " 'NTUSER.DAT{2b1f1269-04c8-11ec-9dae-046c59799d34}.TM.blf',\n",
       " 'NTUSER.DAT{2b1f1269-04c8-11ec-9dae-046c59799d34}.TMContainer00000000000000000001.regtrans-ms',\n",
       " 'NTUSER.DAT{2b1f1269-04c8-11ec-9dae-046c59799d34}.TMContainer00000000000000000002.regtrans-ms',\n",
       " 'ntuser.ini',\n",
       " 'OneDrive',\n",
       " 'Oracle',\n",
       " 'outlier.ipynb',\n",
       " 'Pictures',\n",
       " 'PrintHood',\n",
       " 'python basics.ipynb',\n",
       " 'Recent',\n",
       " 'Saved Games',\n",
       " 'seaborn-data',\n",
       " 'Searches',\n",
       " 'SendTo',\n",
       " 'Start Menu',\n",
       " 'Statistics.ipynb',\n",
       " 'Templates',\n",
       " 'Untitled.ipynb',\n",
       " 'Videos']"
      ]
     },
     "execution_count": 81,
     "metadata": {},
     "output_type": "execute_result"
    }
   ],
   "source": [
    "os.listdir()"
   ]
  },
  {
   "cell_type": "markdown",
   "id": "416b5278",
   "metadata": {},
   "source": [
    "# Exception Handling"
   ]
  },
  {
   "cell_type": "code",
   "execution_count": 85,
   "id": "03ab86e5",
   "metadata": {},
   "outputs": [
    {
     "ename": "ZeroDivisionError",
     "evalue": "division by zero",
     "output_type": "error",
     "traceback": [
      "\u001b[1;31m---------------------------------------------------------------------------\u001b[0m",
      "\u001b[1;31mZeroDivisionError\u001b[0m                         Traceback (most recent call last)",
      "\u001b[1;32mC:\\Users\\ADITYA~1\\AppData\\Local\\Temp/ipykernel_13348/532118508.py\u001b[0m in \u001b[0;36m<module>\u001b[1;34m\u001b[0m\n\u001b[0;32m      1\u001b[0m \u001b[0ma\u001b[0m \u001b[1;33m=\u001b[0m \u001b[1;36m10\u001b[0m\u001b[1;33m\u001b[0m\u001b[1;33m\u001b[0m\u001b[0m\n\u001b[1;32m----> 2\u001b[1;33m \u001b[0ma\u001b[0m\u001b[1;33m/\u001b[0m\u001b[1;36m0\u001b[0m\u001b[1;33m\u001b[0m\u001b[1;33m\u001b[0m\u001b[0m\n\u001b[0m",
      "\u001b[1;31mZeroDivisionError\u001b[0m: division by zero"
     ]
    }
   ],
   "source": [
    "a = 10\n",
    "a/0\n",
    "#anything divide by 0 will give infinity ans."
   ]
  },
  {
   "cell_type": "code",
   "execution_count": 90,
   "id": "a69830c4",
   "metadata": {},
   "outputs": [
    {
     "name": "stdout",
     "output_type": "stream",
     "text": [
      "0\n"
     ]
    },
    {
     "ename": "ZeroDivisionError",
     "evalue": "division by zero",
     "output_type": "error",
     "traceback": [
      "\u001b[1;31m---------------------------------------------------------------------------\u001b[0m",
      "\u001b[1;31mZeroDivisionError\u001b[0m                         Traceback (most recent call last)",
      "\u001b[1;32mC:\\Users\\ADITYA~1\\AppData\\Local\\Temp/ipykernel_13348/3701970614.py\u001b[0m in \u001b[0;36m<module>\u001b[1;34m\u001b[0m\n\u001b[0;32m      1\u001b[0m \u001b[0ma\u001b[0m\u001b[1;33m=\u001b[0m \u001b[1;36m5\u001b[0m\u001b[1;33m\u001b[0m\u001b[1;33m\u001b[0m\u001b[0m\n\u001b[0;32m      2\u001b[0m \u001b[0mb\u001b[0m \u001b[1;33m=\u001b[0m \u001b[0mint\u001b[0m\u001b[1;33m(\u001b[0m\u001b[0minput\u001b[0m\u001b[1;33m(\u001b[0m\u001b[1;33m)\u001b[0m\u001b[1;33m)\u001b[0m\u001b[1;33m\u001b[0m\u001b[1;33m\u001b[0m\u001b[0m\n\u001b[1;32m----> 3\u001b[1;33m \u001b[0ma\u001b[0m\u001b[1;33m/\u001b[0m\u001b[0mb\u001b[0m\u001b[1;33m\u001b[0m\u001b[1;33m\u001b[0m\u001b[0m\n\u001b[0m",
      "\u001b[1;31mZeroDivisionError\u001b[0m: division by zero"
     ]
    }
   ],
   "source": [
    "a= 5\n",
    "b = int(input())\n",
    "a/b"
   ]
  },
  {
   "cell_type": "code",
   "execution_count": 92,
   "id": "d3616416",
   "metadata": {},
   "outputs": [
    {
     "name": "stdout",
     "output_type": "stream",
     "text": [
      "0\n",
      "0 is not exceptable\n"
     ]
    }
   ],
   "source": [
    "# NOw we will perform exception handling\n",
    "try:\n",
    "    a = 5\n",
    "    b = int(input())\n",
    "    a/b\n",
    "except:\n",
    "    print(\"0 is not exceptable\")\n",
    "    \n",
    "#if there is an issue in try block then it will automatically come to except.."
   ]
  },
  {
   "cell_type": "code",
   "execution_count": 93,
   "id": "e2c91565",
   "metadata": {},
   "outputs": [
    {
     "name": "stdout",
     "output_type": "stream",
     "text": [
      "0\n",
      "division by zero\n"
     ]
    }
   ],
   "source": [
    "# if i want to see that which kind of error that we face we can also do that.\n",
    "try:\n",
    "    a = 5\n",
    "    b = int(input())\n",
    "    a/b\n",
    "except Exception as e:\n",
    "    print(e)"
   ]
  },
  {
   "cell_type": "code",
   "execution_count": 97,
   "id": "41e0200d",
   "metadata": {},
   "outputs": [
    {
     "name": "stdout",
     "output_type": "stream",
     "text": [
      "Enter number->2\n",
      "can only concatenate str (not \"int\") to str\n"
     ]
    }
   ],
   "source": [
    "try:\n",
    "    a = input(\"Enter number->\")\n",
    "    print(a + 2)\n",
    "except Exception as e:\n",
    "    print(e)\n",
    "else:\n",
    "    print(\"hello\")\n",
    "#else block only able to execute if and only if try will execute successfully."
   ]
  },
  {
   "cell_type": "code",
   "execution_count": 100,
   "id": "117664ba",
   "metadata": {},
   "outputs": [
    {
     "name": "stdout",
     "output_type": "stream",
     "text": [
      "Enter number2\n",
      "ENter value in int format\n"
     ]
    }
   ],
   "source": [
    "#finally --> execute for sure.\n",
    "try:\n",
    "    a = input(\"Enter number\")\n",
    "    print(a+2)\n",
    "except:\n",
    "    print(\"ENter value in int format\")\n"
   ]
  },
  {
   "cell_type": "code",
   "execution_count": null,
   "id": "c99eef26",
   "metadata": {},
   "outputs": [],
   "source": []
  }
 ],
 "metadata": {
  "kernelspec": {
   "display_name": "Python 3 (ipykernel)",
   "language": "python",
   "name": "python3"
  },
  "language_info": {
   "codemirror_mode": {
    "name": "ipython",
    "version": 3
   },
   "file_extension": ".py",
   "mimetype": "text/x-python",
   "name": "python",
   "nbconvert_exporter": "python",
   "pygments_lexer": "ipython3",
   "version": "3.9.7"
  }
 },
 "nbformat": 4,
 "nbformat_minor": 5
}
